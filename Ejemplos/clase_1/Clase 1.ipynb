{
 "cells": [
  {
   "cell_type": "markdown",
   "metadata": {
    "slideshow": {
     "slide_type": "slide"
    }
   },
   "source": [
    "# Clase 1"
   ]
  },
  {
   "cell_type": "markdown",
   "metadata": {
    "id": "1OtYEMkzGVN3",
    "slideshow": {
     "slide_type": "slide"
    }
   },
   "source": [
    "#### Plan\n",
    "\n",
    "1. Variables y estructuras de datos\n",
    "        - Tipos y asignación.\n",
    "        - Colecciones: listas, tuplas, conjuntos y diccionarios\n",
    "2. Funciones\n",
    "        - Funciones Lambda\n",
    "3. Ramificación\n",
    "4. Iteración\n",
    "5. Programación orientada a objetos"
   ]
  },
  {
   "cell_type": "markdown",
   "metadata": {
    "id": "CLECPHxZGVN-",
    "slideshow": {
     "slide_type": "slide"
    }
   },
   "source": [
    "# 1. Variables y estructuras de datos"
   ]
  },
  {
   "cell_type": "markdown",
   "metadata": {
    "id": "zKStAD1uGVN_",
    "slideshow": {
     "slide_type": "slide"
    }
   },
   "source": [
    "Cuando iniciamos una sesión, no hay ninguna variable creada."
   ]
  },
  {
   "cell_type": "code",
   "execution_count": 1,
   "metadata": {
    "id": "CVf39CXtGVN_",
    "outputId": "c1bf41c2-aad3-4de1-afa8-e747e913d1fa",
    "slideshow": {
     "slide_type": "slide"
    }
   },
   "outputs": [
    {
     "name": "stdout",
     "output_type": "stream",
     "text": [
      "Interactive namespace is empty.\n"
     ]
    }
   ],
   "source": [
    "# En IPython, podemos ver las variables con %who\n",
    "%whos"
   ]
  },
  {
   "cell_type": "markdown",
   "metadata": {
    "id": "ITJVlZ_LGVOB",
    "slideshow": {
     "slide_type": "slide"
    }
   },
   "source": [
    "La creación de una variable es la asociación de la instancia de un nuevo objeto en memoria a un nombre. "
   ]
  },
  {
   "cell_type": "code",
   "execution_count": 2,
   "metadata": {
    "id": "tkBdd-z4GVOB",
    "slideshow": {
     "slide_type": "slide"
    }
   },
   "outputs": [],
   "source": [
    "a = 3\n",
    "b = 0.72 \n",
    "c = False \n",
    "d = \"Hola\" \n",
    "e = object()"
   ]
  },
  {
   "cell_type": "code",
   "execution_count": 3,
   "metadata": {
    "id": "zMxkDaCYGVOC",
    "outputId": "f499d573-5233-4f2e-de87-52573a48fa13",
    "slideshow": {
     "slide_type": "slide"
    }
   },
   "outputs": [
    {
     "name": "stdout",
     "output_type": "stream",
     "text": [
      "Variable   Type      Data/Info\n",
      "------------------------------\n",
      "a          int       3\n",
      "b          float     0.72\n",
      "c          bool      False\n",
      "d          str       Hola\n",
      "e          object    <object object at 0x0000029C6A32A380>\n"
     ]
    }
   ],
   "source": [
    "%whos"
   ]
  },
  {
   "cell_type": "markdown",
   "metadata": {
    "id": "xZGXE7auGVOC",
    "slideshow": {
     "slide_type": "slide"
    }
   },
   "source": [
    "Podemos ver el tipo de una variable con **type()** y su dirección o handle con **id()**."
   ]
  },
  {
   "cell_type": "code",
   "execution_count": 4,
   "metadata": {
    "id": "WD81cAz1GVOD",
    "outputId": "24da73f2-94fa-43ae-9bcb-d3734408fac1",
    "slideshow": {
     "slide_type": "slide"
    }
   },
   "outputs": [
    {
     "data": {
      "text/plain": [
       "(int, float, bool, str)"
      ]
     },
     "execution_count": 4,
     "metadata": {},
     "output_type": "execute_result"
    }
   ],
   "source": [
    "type(a),type(b),type(c),type(d)"
   ]
  },
  {
   "cell_type": "code",
   "execution_count": 5,
   "metadata": {
    "id": "j2lgNdW8GVOD",
    "outputId": "4e907646-a2e0-440f-cfd1-dc945ff6fe71",
    "slideshow": {
     "slide_type": "slide"
    }
   },
   "outputs": [
    {
     "data": {
      "text/plain": [
       "(140710852507488, 2870821719760, 140710852224880, 2870822018160)"
      ]
     },
     "execution_count": 5,
     "metadata": {},
     "output_type": "execute_result"
    }
   ],
   "source": [
    "id(a),id(b),id(c),id(d)"
   ]
  },
  {
   "cell_type": "markdown",
   "metadata": {
    "id": "GCSmHSvKGVOE",
    "slideshow": {
     "slide_type": "slide"
    }
   },
   "source": [
    "En python la asignación establece un vínculo entre el nombre de la variable y un nuevo objeto creado. \n",
    "\n",
    "Por ejemplo, si asignamos el número 2 a una variable y luego asignamos el 3, cada asignación instancia un nuevo objeto (esto es distinto que en otros lenguajes, como por ejemplo C, que distinguen entre tipos primitivos y objetos)."
   ]
  },
  {
   "cell_type": "code",
   "execution_count": 6,
   "metadata": {
    "id": "sNDeYFmhGVOE",
    "outputId": "be033221-74e9-4e90-c74d-72ffe53792a3",
    "scrolled": true,
    "slideshow": {
     "slide_type": "slide"
    }
   },
   "outputs": [
    {
     "name": "stdout",
     "output_type": "stream",
     "text": [
      "<class 'int'>\n",
      "140710852507456\n",
      "140710852507488\n"
     ]
    }
   ],
   "source": [
    "a = 2\n",
    "print(type(a)) # Tipo 'int'\n",
    "print(id(a)) # Un valor.\n",
    "a = 3\n",
    "print(id(a)) # Un valor distinto del anterior"
   ]
  },
  {
   "cell_type": "markdown",
   "metadata": {
    "id": "ns2G4eTrGVOF",
    "slideshow": {
     "slide_type": "slide"
    }
   },
   "source": [
    "## 1.1 Contenedores: listas, tuplas, conjuntos y diccionarios"
   ]
  },
  {
   "cell_type": "code",
   "execution_count": 7,
   "metadata": {
    "id": "HA6KTRnaGVOF",
    "outputId": "66426000-d449-4e16-8317-754aa7ea5f42",
    "slideshow": {
     "slide_type": "slide"
    }
   },
   "outputs": [
    {
     "name": "stdout",
     "output_type": "stream",
     "text": [
      "Once deleted, variables cannot be recovered. Proceed (y/[n])? y\n"
     ]
    }
   ],
   "source": [
    "# Limpiamos el contexto\n",
    "%reset"
   ]
  },
  {
   "cell_type": "markdown",
   "metadata": {
    "id": "JclJtxlxGVOF",
    "slideshow": {
     "slide_type": "slide"
    }
   },
   "source": [
    "####  Listas\n",
    "\n",
    "- Colección de elementos ordenados.\n",
    "- Se instancian con\n",
    "\n",
    "~~~python\n",
    "a_list = []\n",
    "a_list = list()\n",
    "~~~"
   ]
  },
  {
   "cell_type": "code",
   "execution_count": 8,
   "metadata": {
    "id": "8q5-jN25GVOF",
    "outputId": "ab9cedc5-e9c2-43c4-9b5e-f5292ddd3bcc",
    "slideshow": {
     "slide_type": "slide"
    }
   },
   "outputs": [
    {
     "data": {
      "text/plain": [
       "list"
      ]
     },
     "execution_count": 8,
     "metadata": {},
     "output_type": "execute_result"
    }
   ],
   "source": [
    "a_list = [ 1,2,3,4,5,6 ]\n",
    "type(a_list)"
   ]
  },
  {
   "cell_type": "code",
   "execution_count": 9,
   "metadata": {
    "id": "dD4wAFSNGVOG",
    "outputId": "b349950c-0728-4d83-bd85-ff79287eb489",
    "slideshow": {
     "slide_type": "slide"
    }
   },
   "outputs": [
    {
     "data": {
      "text/plain": [
       "[1, 2, 3, 4, 5, 6]"
      ]
     },
     "execution_count": 9,
     "metadata": {},
     "output_type": "execute_result"
    }
   ],
   "source": [
    "a_list"
   ]
  },
  {
   "cell_type": "markdown",
   "metadata": {
    "id": "MYn_ZZBgGVOG",
    "slideshow": {
     "slide_type": "slide"
    }
   },
   "source": [
    "Slicing e indexado."
   ]
  },
  {
   "cell_type": "code",
   "execution_count": 10,
   "metadata": {
    "id": "rnTT0lHuGVOH",
    "outputId": "382baed2-f68f-4594-ad01-ca5537277638",
    "scrolled": true,
    "slideshow": {
     "slide_type": "slide"
    }
   },
   "outputs": [
    {
     "name": "stdout",
     "output_type": "stream",
     "text": [
      "[1, 2, 3, 4, 5, 6]\n"
     ]
    },
    {
     "data": {
      "text/plain": [
       "(1, 6, [3, 4], [4, 5, 6], [1, 2])"
      ]
     },
     "execution_count": 10,
     "metadata": {},
     "output_type": "execute_result"
    }
   ],
   "source": [
    "print(a_list)\n",
    "\n",
    "a_list[0],a_list[-1],a_list[2:4],a_list[3:],a_list[:2]"
   ]
  },
  {
   "cell_type": "code",
   "execution_count": 11,
   "metadata": {
    "id": "s3cZSX7LGVOH",
    "outputId": "a61c686d-2153-4caa-cf41-d7060d923059",
    "slideshow": {
     "slide_type": "slide"
    }
   },
   "outputs": [
    {
     "data": {
      "text/plain": [
       "[6, 4, 2]"
      ]
     },
     "execution_count": 11,
     "metadata": {},
     "output_type": "execute_result"
    }
   ],
   "source": [
    "a_list[::-2] # Recorrer de a 1 "
   ]
  },
  {
   "cell_type": "code",
   "execution_count": 12,
   "metadata": {
    "id": "yxd1KEGkGVOH",
    "outputId": "3c698891-8f48-437b-85c9-a6fd1c217420",
    "slideshow": {
     "slide_type": "slide"
    }
   },
   "outputs": [
    {
     "data": {
      "text/plain": [
       "[1, 3, 5]"
      ]
     },
     "execution_count": 12,
     "metadata": {},
     "output_type": "execute_result"
    }
   ],
   "source": [
    "# Notación para rangos: [inicio]:[fin]:[paso]. \n",
    "# Valores por defecto: inicio=0,fin=-1,paso=1\n",
    "a_list[::2] # Recorrer de a 2 "
   ]
  },
  {
   "cell_type": "code",
   "execution_count": 13,
   "metadata": {
    "id": "zhoNbFO5GVOI",
    "outputId": "5a0e3364-5aad-4055-df4d-1f26ec7dc070",
    "slideshow": {
     "slide_type": "slide"
    }
   },
   "outputs": [
    {
     "data": {
      "text/plain": [
       "[6, 5, 4, 3, 2, 1]"
      ]
     },
     "execution_count": 13,
     "metadata": {},
     "output_type": "execute_result"
    }
   ],
   "source": [
    "a_list[::-1] # Recorrer en orden inverso"
   ]
  },
  {
   "cell_type": "code",
   "execution_count": 20,
   "metadata": {
    "id": "x48fk0QyGVOI",
    "outputId": "ad9e37f9-1065-4be0-f938-d1053808cc8d",
    "slideshow": {
     "slide_type": "slide"
    }
   },
   "outputs": [
    {
     "data": {
      "text/plain": [
       "[1, 2, 3, 4, 5, 6]"
      ]
     },
     "execution_count": 20,
     "metadata": {},
     "output_type": "execute_result"
    }
   ],
   "source": [
    "# Ídem, usando operador de rango\n",
    "a_list = list(range(1,7,1)) # Creación por rango\n",
    "a_list"
   ]
  },
  {
   "cell_type": "code",
   "execution_count": 21,
   "metadata": {},
   "outputs": [
    {
     "data": {
      "text/plain": [
       "2870821554240"
      ]
     },
     "execution_count": 21,
     "metadata": {},
     "output_type": "execute_result"
    }
   ],
   "source": [
    "id(a_list)"
   ]
  },
  {
   "cell_type": "markdown",
   "metadata": {
    "id": "9aHoWIsMGVOI",
    "slideshow": {
     "slide_type": "slide"
    }
   },
   "source": [
    "Agregar, insertar, remover."
   ]
  },
  {
   "cell_type": "code",
   "execution_count": 22,
   "metadata": {
    "id": "604rOhLkGVOJ",
    "outputId": "ff780617-72a2-49d8-b3da-122fc7787d75",
    "scrolled": true,
    "slideshow": {
     "slide_type": "slide"
    }
   },
   "outputs": [
    {
     "data": {
      "text/plain": [
       "[1, 2, 3, 4, 5, 6, 7]"
      ]
     },
     "execution_count": 22,
     "metadata": {},
     "output_type": "execute_result"
    }
   ],
   "source": [
    "a_list.append(7)\n",
    "a_list"
   ]
  },
  {
   "cell_type": "code",
   "execution_count": 23,
   "metadata": {},
   "outputs": [
    {
     "data": {
      "text/plain": [
       "2870821554240"
      ]
     },
     "execution_count": 23,
     "metadata": {},
     "output_type": "execute_result"
    }
   ],
   "source": [
    "id(a_list)"
   ]
  },
  {
   "cell_type": "code",
   "execution_count": 16,
   "metadata": {
    "id": "Gyk1Z1P1GVOJ",
    "outputId": "ce43b888-dfdd-4851-9fe4-bad7b1a34b9b",
    "slideshow": {
     "slide_type": "slide"
    }
   },
   "outputs": [
    {
     "data": {
      "text/plain": [
       "[0.5, 1, 2, 3, 4, 5, 6, 7]"
      ]
     },
     "execution_count": 16,
     "metadata": {},
     "output_type": "execute_result"
    }
   ],
   "source": [
    "a_list.insert(0,0.5)\n",
    "a_list"
   ]
  },
  {
   "cell_type": "code",
   "execution_count": 18,
   "metadata": {
    "id": "VzpKEaxlGVOJ",
    "outputId": "d1c320a5-4631-4681-ac04-e06a3cba0cfa",
    "slideshow": {
     "slide_type": "slide"
    }
   },
   "outputs": [
    {
     "data": {
      "text/plain": [
       "[0.5, 1, 2, 3, 6, 7]"
      ]
     },
     "execution_count": 18,
     "metadata": {},
     "output_type": "execute_result"
    }
   ],
   "source": [
    "a_list.remove(5)\n",
    "a_list"
   ]
  },
  {
   "cell_type": "code",
   "execution_count": 19,
   "metadata": {
    "id": "qQWAr-a8GVOK",
    "outputId": "2b4d35f1-c380-4664-e554-a73527a5c64b",
    "slideshow": {
     "slide_type": "slide"
    }
   },
   "outputs": [
    {
     "data": {
      "text/plain": [
       "6"
      ]
     },
     "execution_count": 19,
     "metadata": {},
     "output_type": "execute_result"
    }
   ],
   "source": [
    "len(a_list)"
   ]
  },
  {
   "cell_type": "markdown",
   "metadata": {
    "id": "LL2431z3GVOK",
    "slideshow": {
     "slide_type": "slide"
    }
   },
   "source": [
    "####  Tuplas\n",
    "\n",
    "- Similares a las listas, pero inmutables."
   ]
  },
  {
   "cell_type": "code",
   "execution_count": 24,
   "metadata": {
    "id": "ET2e0Mp1GVOK",
    "outputId": "857d0be8-4891-4afd-bbd5-fa92f34c32c4",
    "slideshow": {
     "slide_type": "slide"
    }
   },
   "outputs": [
    {
     "data": {
      "text/plain": [
       "tuple"
      ]
     },
     "execution_count": 24,
     "metadata": {},
     "output_type": "execute_result"
    }
   ],
   "source": [
    "a_tuple = (1,2,3,4,5,6)\n",
    "type(a_tuple)"
   ]
  },
  {
   "cell_type": "code",
   "execution_count": 25,
   "metadata": {
    "id": "3eA7V2-JGVOL",
    "outputId": "0121a347-49d3-468f-be46-dab916f5c673",
    "slideshow": {
     "slide_type": "slide"
    }
   },
   "outputs": [
    {
     "data": {
      "text/plain": [
       "(1, 2, 3, 4, 5, 6)"
      ]
     },
     "execution_count": 25,
     "metadata": {},
     "output_type": "execute_result"
    }
   ],
   "source": [
    "a_tuple"
   ]
  },
  {
   "cell_type": "code",
   "execution_count": 26,
   "metadata": {},
   "outputs": [
    {
     "data": {
      "text/plain": [
       "1"
      ]
     },
     "execution_count": 26,
     "metadata": {},
     "output_type": "execute_result"
    }
   ],
   "source": [
    "a_tuple[0]"
   ]
  },
  {
   "cell_type": "code",
   "execution_count": 27,
   "metadata": {
    "id": "VB6tG861GVOL",
    "outputId": "5bd39763-ccde-44fa-c276-27cdae43deec",
    "slideshow": {
     "slide_type": "slide"
    }
   },
   "outputs": [
    {
     "name": "stdout",
     "output_type": "stream",
     "text": [
      "No asignable\n"
     ]
    },
    {
     "data": {
      "text/plain": [
       "(1, 2, 3, 4, 5, 6)"
      ]
     },
     "execution_count": 27,
     "metadata": {},
     "output_type": "execute_result"
    }
   ],
   "source": [
    "try:\n",
    "    a_tuple[0] = 99 # Falla\n",
    "except TypeError: \n",
    "    print(\"No asignable\")\n",
    "    pass\n",
    "a_tuple"
   ]
  },
  {
   "cell_type": "code",
   "execution_count": 28,
   "metadata": {},
   "outputs": [],
   "source": [
    "registro = ('Argentina', 112000, 'Bariloche')"
   ]
  },
  {
   "cell_type": "code",
   "execution_count": 29,
   "metadata": {},
   "outputs": [
    {
     "data": {
      "text/plain": [
       "('Argentina', 112000, 'Bariloche')"
      ]
     },
     "execution_count": 29,
     "metadata": {},
     "output_type": "execute_result"
    }
   ],
   "source": [
    "registro"
   ]
  },
  {
   "cell_type": "code",
   "execution_count": 30,
   "metadata": {},
   "outputs": [
    {
     "name": "stdout",
     "output_type": "stream",
     "text": [
      "País: Argentina\n",
      "Población: 112000\n",
      "Ciudad: Bariloche\n"
     ]
    }
   ],
   "source": [
    "#unpacking\n",
    "pais, poblacion, ciudad = registro\n",
    "\n",
    "# pais, poblacion, ciudad = function_registro(arg, kwargs)\n",
    "\n",
    "print(\"País:\", pais)\n",
    "print(\"Población:\", poblacion)\n",
    "print(\"Ciudad:\", ciudad)"
   ]
  },
  {
   "cell_type": "markdown",
   "metadata": {
    "id": "J_w9jmweGVOL",
    "slideshow": {
     "slide_type": "slide"
    }
   },
   "source": [
    "####  Conjuntos (sets)\n",
    "\n",
    "- Pueden almacenar una colección no ordeanada de elementos no duplicados.\n",
    "- Soportan operaciones como Union, Intersección, Diferencia, etc."
   ]
  },
  {
   "cell_type": "code",
   "execution_count": 31,
   "metadata": {
    "id": "MNfMsYSQGVOL",
    "outputId": "accc2720-2e4a-4e02-efe4-2b4ed32eca46",
    "slideshow": {
     "slide_type": "slide"
    }
   },
   "outputs": [
    {
     "data": {
      "text/plain": [
       "set"
      ]
     },
     "execution_count": 31,
     "metadata": {},
     "output_type": "execute_result"
    }
   ],
   "source": [
    "a_set = {1,2,3,4,5,6}\n",
    "type(a_set)"
   ]
  },
  {
   "cell_type": "code",
   "execution_count": 32,
   "metadata": {
    "id": "R_hU5lNOGVOM",
    "outputId": "454ed289-d9a8-4f46-d846-0b1fd243ced4",
    "slideshow": {
     "slide_type": "slide"
    }
   },
   "outputs": [
    {
     "data": {
      "text/plain": [
       "True"
      ]
     },
     "execution_count": 32,
     "metadata": {},
     "output_type": "execute_result"
    }
   ],
   "source": [
    "2 in a_set"
   ]
  },
  {
   "cell_type": "code",
   "execution_count": 33,
   "metadata": {
    "id": "YtCGf4OKGVOM",
    "outputId": "ca96341f-ccd9-4c9e-d327-03a8ff0569eb",
    "slideshow": {
     "slide_type": "slide"
    }
   },
   "outputs": [
    {
     "data": {
      "text/plain": [
       "False"
      ]
     },
     "execution_count": 33,
     "metadata": {},
     "output_type": "execute_result"
    }
   ],
   "source": [
    "99 in a_set"
   ]
  },
  {
   "cell_type": "code",
   "execution_count": 34,
   "metadata": {
    "id": "6wjHV7UVGVOM",
    "outputId": "9288de9f-4932-4674-f300-94cbca6d649d",
    "slideshow": {
     "slide_type": "slide"
    }
   },
   "outputs": [
    {
     "data": {
      "text/plain": [
       "{1, 2, 3, 4, 5, 6, 7}"
      ]
     },
     "execution_count": 34,
     "metadata": {},
     "output_type": "execute_result"
    }
   ],
   "source": [
    "# Unión\n",
    "{1,2,4,7} | { 3, 5, 6 } "
   ]
  },
  {
   "cell_type": "code",
   "execution_count": 35,
   "metadata": {
    "id": "b5TzA7WEGVON",
    "outputId": "22ca2d81-8cd8-45ad-a760-fc2de3942d18",
    "slideshow": {
     "slide_type": "slide"
    }
   },
   "outputs": [
    {
     "data": {
      "text/plain": [
       "{3, 5, 6}"
      ]
     },
     "execution_count": 35,
     "metadata": {},
     "output_type": "execute_result"
    }
   ],
   "source": [
    "# Intersección\n",
    "{1,2,3,4,5,6,7} & { 3, 5, 6 } "
   ]
  },
  {
   "cell_type": "code",
   "execution_count": 36,
   "metadata": {
    "id": "KXbD_Td0GVON",
    "outputId": "f6112a93-59e1-4c73-b295-6b0009403787",
    "slideshow": {
     "slide_type": "slide"
    }
   },
   "outputs": [
    {
     "data": {
      "text/plain": [
       "{1, 3, 4, 6}"
      ]
     },
     "execution_count": 36,
     "metadata": {},
     "output_type": "execute_result"
    }
   ],
   "source": [
    "# Diferencia\n",
    "{1,2,3,3,4,5,6} - {2,5}"
   ]
  },
  {
   "cell_type": "code",
   "execution_count": 37,
   "metadata": {
    "id": "N-qw2pnpGVON",
    "outputId": "d28e0ec3-1e97-40a7-e05a-a99b41df4718",
    "slideshow": {
     "slide_type": "slide"
    }
   },
   "outputs": [
    {
     "data": {
      "text/plain": [
       "{1, 5, 6}"
      ]
     },
     "execution_count": 37,
     "metadata": {},
     "output_type": "execute_result"
    }
   ],
   "source": [
    "# Diferencia simétrica \n",
    "# (subconjunto de elementos que están en ambos conjuntos, pero no en su intersección)\n",
    "{1,2,3,3,4,5,6}.symmetric_difference({2,3,4})"
   ]
  },
  {
   "cell_type": "code",
   "execution_count": 38,
   "metadata": {
    "id": "ptr7U2qWGVOO",
    "outputId": "54fe379e-5e4e-4a72-9712-aedb2c49cf69",
    "slideshow": {
     "slide_type": "slide"
    }
   },
   "outputs": [
    {
     "data": {
      "text/plain": [
       "(True, False)"
      ]
     },
     "execution_count": 38,
     "metadata": {},
     "output_type": "execute_result"
    }
   ],
   "source": [
    "# Testeo de inclusión: A contenido en B?\n",
    "a = { 1,2,3,4,5,6 }\n",
    "b = { 1,4 }\n",
    "c = { 1,4,7}\n",
    "b.issubset(a),c.issubset(a)"
   ]
  },
  {
   "cell_type": "markdown",
   "metadata": {
    "id": "xprWa_gFGVOO",
    "slideshow": {
     "slide_type": "slide"
    }
   },
   "source": [
    "*Tip*: se puede usar un conjunto para obtener los elementos únicos de una lista."
   ]
  },
  {
   "cell_type": "code",
   "execution_count": 39,
   "metadata": {
    "id": "9c7doptNGVOO",
    "outputId": "35e5e0be-9ff2-41de-8bc7-44aecb3352e1",
    "slideshow": {
     "slide_type": "slide"
    }
   },
   "outputs": [
    {
     "name": "stdout",
     "output_type": "stream",
     "text": [
      "<class 'list'>\n",
      "<class 'set'>\n"
     ]
    },
    {
     "data": {
      "text/plain": [
       "{1, 2, 3, 4, 5, 6, 10, 41}"
      ]
     },
     "execution_count": 39,
     "metadata": {},
     "output_type": "execute_result"
    }
   ],
   "source": [
    "all_values = [ 1,1,3,4,5,1,2,3,5,4,2,1,2,3,4,5,6,2,3,4,5,10,41,]\n",
    "print(type(all_values))\n",
    "all_set = set(all_values)\n",
    "print(type(all_set))\n",
    "all_set"
   ]
  },
  {
   "cell_type": "markdown",
   "metadata": {
    "id": "lBGpCxM5GVOP",
    "slideshow": {
     "slide_type": "slide"
    }
   },
   "source": [
    "#### Diccionarios\n",
    "\n",
    "Pueden verse como tablas o mapas que asocian un elemento a otro de forma eficiente.\n"
   ]
  },
  {
   "cell_type": "code",
   "execution_count": 40,
   "metadata": {
    "colab": {
     "base_uri": "https://localhost:8080/"
    },
    "executionInfo": {
     "elapsed": 824,
     "status": "ok",
     "timestamp": 1613948882878,
     "user": {
      "displayName": "Nicolas Horro",
      "photoUrl": "https://lh4.googleusercontent.com/--3DXBeoKCHg/AAAAAAAAAAI/AAAAAAAAAY0/pAcXsaDcvLQ/s64/photo.jpg",
      "userId": "02428399203512836803"
     },
     "user_tz": 180
    },
    "id": "GOpLWJqQGVOP",
    "outputId": "891b1637-748d-4b79-ad2d-c557348660be",
    "slideshow": {
     "slide_type": "slide"
    }
   },
   "outputs": [
    {
     "data": {
      "text/plain": [
       "{'my_int': 42,\n",
       " 'my_list': [1, 'dog', False, 0.376],\n",
       " 'my_tuple': (2, 'cat', True, 1.376),\n",
       " 'my_set': {10, 'poker', 'truco'},\n",
       " 'my_dict': {'some_key': False},\n",
       " 'my_square': <function __main__.<lambda>(x)>}"
      ]
     },
     "execution_count": 40,
     "metadata": {},
     "output_type": "execute_result"
    }
   ],
   "source": [
    "a_dict = { \n",
    "    \"my_int\": 42,\n",
    "    \"my_list\": [1,\"dog\", False, 0.376],\n",
    "    \"my_tuple\": (2,\"cat\", True, 1.376),\n",
    "    \"my_set\": {\"poker\", \"truco\", 10},\n",
    "    \"my_dict\": { \"some_key\": False },\n",
    "    \"my_square\": lambda x: x**2\n",
    "}\n",
    "a_dict"
   ]
  },
  {
   "cell_type": "code",
   "execution_count": 44,
   "metadata": {
    "colab": {
     "base_uri": "https://localhost:8080/"
    },
    "executionInfo": {
     "elapsed": 957,
     "status": "ok",
     "timestamp": 1613948916869,
     "user": {
      "displayName": "Nicolas Horro",
      "photoUrl": "https://lh4.googleusercontent.com/--3DXBeoKCHg/AAAAAAAAAAI/AAAAAAAAAY0/pAcXsaDcvLQ/s64/photo.jpg",
      "userId": "02428399203512836803"
     },
     "user_tz": 180
    },
    "id": "ikGCapaIGVOQ",
    "outputId": "0f53f0be-54c4-4c97-b193-2ae2103484a6",
    "slideshow": {
     "slide_type": "slide"
    }
   },
   "outputs": [
    {
     "data": {
      "text/plain": [
       "['my_int', 'my_list', 'my_tuple', 'my_set', 'my_dict', 'my_square']"
      ]
     },
     "execution_count": 44,
     "metadata": {},
     "output_type": "execute_result"
    }
   ],
   "source": [
    "list(a_dict.keys())"
   ]
  },
  {
   "cell_type": "code",
   "execution_count": 45,
   "metadata": {
    "colab": {
     "base_uri": "https://localhost:8080/"
    },
    "executionInfo": {
     "elapsed": 930,
     "status": "ok",
     "timestamp": 1613948918642,
     "user": {
      "displayName": "Nicolas Horro",
      "photoUrl": "https://lh4.googleusercontent.com/--3DXBeoKCHg/AAAAAAAAAAI/AAAAAAAAAY0/pAcXsaDcvLQ/s64/photo.jpg",
      "userId": "02428399203512836803"
     },
     "user_tz": 180
    },
    "id": "vm1IBiwpGVOQ",
    "outputId": "f20694cc-3cf4-4708-9489-f748cc974f60",
    "slideshow": {
     "slide_type": "slide"
    }
   },
   "outputs": [
    {
     "data": {
      "text/plain": [
       "[('my_int', 42),\n",
       " ('my_list', [1, 'dog', False, 0.376]),\n",
       " ('my_tuple', (2, 'cat', True, 1.376)),\n",
       " ('my_set', {10, 'poker', 'truco'}),\n",
       " ('my_dict', {'some_key': False}),\n",
       " ('my_square', <function __main__.<lambda>(x)>)]"
      ]
     },
     "execution_count": 45,
     "metadata": {},
     "output_type": "execute_result"
    }
   ],
   "source": [
    "list(a_dict.items())"
   ]
  },
  {
   "cell_type": "code",
   "execution_count": 46,
   "metadata": {
    "id": "aDOrhVH3GVOQ",
    "outputId": "89dee43d-4537-42d7-8bdd-3effc3250066",
    "scrolled": true,
    "slideshow": {
     "slide_type": "slide"
    }
   },
   "outputs": [
    {
     "data": {
      "text/plain": [
       "{'a': 10, 'b': 20, 'c': 30}"
      ]
     },
     "execution_count": 46,
     "metadata": {},
     "output_type": "execute_result"
    }
   ],
   "source": [
    "a_dict = dict([(\"a\",10),(\"b\",20),(\"c\",30)])\n",
    "a_dict"
   ]
  },
  {
   "cell_type": "code",
   "execution_count": 47,
   "metadata": {
    "id": "WXhktCgXGVOR",
    "outputId": "dd732bd4-86d1-4544-9bed-3c66166342d6",
    "slideshow": {
     "slide_type": "slide"
    }
   },
   "outputs": [
    {
     "data": {
      "text/plain": [
       "(True, False)"
      ]
     },
     "execution_count": 47,
     "metadata": {},
     "output_type": "execute_result"
    }
   ],
   "source": [
    "\"a\" in a_dict, \"z\" in a_dict"
   ]
  },
  {
   "cell_type": "code",
   "execution_count": 58,
   "metadata": {},
   "outputs": [
    {
     "ename": "KeyError",
     "evalue": "'clave'",
     "output_type": "error",
     "traceback": [
      "\u001b[1;31m---------------------------------------------------------------------------\u001b[0m",
      "\u001b[1;31mKeyError\u001b[0m                                  Traceback (most recent call last)",
      "\u001b[1;32m<ipython-input-58-22d185af60b7>\u001b[0m in \u001b[0;36m<module>\u001b[1;34m\u001b[0m\n\u001b[0;32m      1\u001b[0m \u001b[0mdict_demo\u001b[0m \u001b[1;33m=\u001b[0m \u001b[0mdict\u001b[0m\u001b[1;33m(\u001b[0m\u001b[1;33m)\u001b[0m\u001b[1;33m\u001b[0m\u001b[1;33m\u001b[0m\u001b[0m\n\u001b[1;32m----> 2\u001b[1;33m \u001b[0mprint\u001b[0m\u001b[1;33m(\u001b[0m\u001b[0mdict_demo\u001b[0m\u001b[1;33m[\u001b[0m\u001b[1;34m'clave'\u001b[0m\u001b[1;33m]\u001b[0m\u001b[1;33m)\u001b[0m\u001b[1;33m\u001b[0m\u001b[1;33m\u001b[0m\u001b[0m\n\u001b[0m",
      "\u001b[1;31mKeyError\u001b[0m: 'clave'"
     ]
    }
   ],
   "source": [
    "dict_demo = dict()\n",
    "print(dict_demo['clave'])"
   ]
  },
  {
   "cell_type": "code",
   "execution_count": 59,
   "metadata": {},
   "outputs": [
    {
     "name": "stdout",
     "output_type": "stream",
     "text": [
      "None\n"
     ]
    }
   ],
   "source": [
    "print(dict_demo.get('clave'))"
   ]
  },
  {
   "cell_type": "code",
   "execution_count": 52,
   "metadata": {},
   "outputs": [
    {
     "data": {
      "text/plain": [
       "'No existe'"
      ]
     },
     "execution_count": 52,
     "metadata": {},
     "output_type": "execute_result"
    }
   ],
   "source": [
    "dict_demo.get('clave', 'No existe')"
   ]
  },
  {
   "cell_type": "code",
   "execution_count": 60,
   "metadata": {},
   "outputs": [],
   "source": [
    "dict_demo.get('otra_clave')"
   ]
  },
  {
   "cell_type": "code",
   "execution_count": 63,
   "metadata": {},
   "outputs": [
    {
     "name": "stdout",
     "output_type": "stream",
     "text": [
      "0\n"
     ]
    }
   ],
   "source": [
    "from collections import defaultdict\n",
    "\n",
    "defaultdict_demo = defaultdict(int)\n",
    "print(defaultdict_demo['clave'])"
   ]
  },
  {
   "cell_type": "code",
   "execution_count": 64,
   "metadata": {},
   "outputs": [
    {
     "name": "stdout",
     "output_type": "stream",
     "text": [
      "0\n"
     ]
    }
   ],
   "source": [
    "print(defaultdict_demo['otra_clave'])"
   ]
  },
  {
   "cell_type": "code",
   "execution_count": 65,
   "metadata": {},
   "outputs": [
    {
     "name": "stdout",
     "output_type": "stream",
     "text": [
      "No existe\n"
     ]
    }
   ],
   "source": [
    "defaultdict_demo = defaultdict(lambda:'No existe')\n",
    "print(defaultdict_demo['clave'])"
   ]
  },
  {
   "cell_type": "code",
   "execution_count": 66,
   "metadata": {},
   "outputs": [
    {
     "name": "stdout",
     "output_type": "stream",
     "text": [
      "No existe\n"
     ]
    }
   ],
   "source": [
    "print(defaultdict_demo['otra_clave'])"
   ]
  },
  {
   "cell_type": "markdown",
   "metadata": {
    "id": "3S8pdLHfGVOR",
    "slideshow": {
     "slide_type": "slide"
    }
   },
   "source": [
    "## 2. Funciones"
   ]
  },
  {
   "cell_type": "markdown",
   "metadata": {
    "id": "QV8-I3XhGVOR",
    "slideshow": {
     "slide_type": "slide"
    }
   },
   "source": [
    "Funciones incluidas en el lenguaje (built-in)."
   ]
  },
  {
   "cell_type": "code",
   "execution_count": 67,
   "metadata": {
    "id": "OsY_d2TpGVOS",
    "outputId": "ccac8dfc-55d9-47ef-c608-3fd50f7e79e8",
    "slideshow": {
     "slide_type": "slide"
    }
   },
   "outputs": [
    {
     "data": {
      "text/plain": [
       "(builtin_function_or_method, builtin_function_or_method, True)"
      ]
     },
     "execution_count": 67,
     "metadata": {},
     "output_type": "execute_result"
    }
   ],
   "source": [
    "# built-in\n",
    "type(len),type(id), isinstance(4,int)"
   ]
  },
  {
   "cell_type": "markdown",
   "metadata": {
    "id": "rxzQQ8LfGVOS",
    "slideshow": {
     "slide_type": "slide"
    }
   },
   "source": [
    "Funciones definidas"
   ]
  },
  {
   "cell_type": "code",
   "execution_count": 68,
   "metadata": {
    "id": "mt0cHCv-GVOS",
    "outputId": "5d385d0d-c592-48c4-a934-345e7db3b384",
    "slideshow": {
     "slide_type": "slide"
    }
   },
   "outputs": [
    {
     "name": "stdout",
     "output_type": "stream",
     "text": [
      "4\n",
      "<class 'function'>\n"
     ]
    }
   ],
   "source": [
    "def my_square(x):\n",
    "    return x**2\n",
    "\n",
    "print(my_square(2))\n",
    "print(type(my_square))"
   ]
  },
  {
   "cell_type": "markdown",
   "metadata": {
    "id": "EjeymCy7GVOT",
    "slideshow": {
     "slide_type": "slide"
    }
   },
   "source": [
    "Funciones anidadas."
   ]
  },
  {
   "cell_type": "code",
   "execution_count": 72,
   "metadata": {
    "id": "7qymLplDGVOT",
    "outputId": "cafc1c98-6525-4bcf-c5dc-b9f02d54fea8",
    "slideshow": {
     "slide_type": "slide"
    }
   },
   "outputs": [
    {
     "name": "stdout",
     "output_type": "stream",
     "text": [
      "<function make_multiplier.<locals>.wrapper at 0x0000029C6A60F310>\n",
      "<function make_multiplier.<locals>.wrapper at 0x0000029C6A60F430>\n"
     ]
    },
    {
     "data": {
      "text/plain": [
       "(function, function)"
      ]
     },
     "execution_count": 72,
     "metadata": {},
     "output_type": "execute_result"
    }
   ],
   "source": [
    "# Decorators - decoradores --> Patron de Diseño\n",
    "# @staticmethod\n",
    "\n",
    "def make_multiplier(coeff):\n",
    "    def wrapper(x):\n",
    "        return coeff * x\n",
    "    return wrapper\n",
    "\n",
    "duplicator = make_multiplier(2)\n",
    "triplicator = make_multiplier(3)\n",
    "\n",
    "print(duplicator)\n",
    "print(triplicator)\n",
    "\n",
    "type(duplicator),type(triplicator)"
   ]
  },
  {
   "cell_type": "code",
   "execution_count": 73,
   "metadata": {},
   "outputs": [
    {
     "data": {
      "text/plain": [
       "4"
      ]
     },
     "execution_count": 73,
     "metadata": {},
     "output_type": "execute_result"
    }
   ],
   "source": [
    "duplicator(2)"
   ]
  },
  {
   "cell_type": "code",
   "execution_count": 74,
   "metadata": {},
   "outputs": [
    {
     "data": {
      "text/plain": [
       "6"
      ]
     },
     "execution_count": 74,
     "metadata": {},
     "output_type": "execute_result"
    }
   ],
   "source": [
    "triplicator(2)"
   ]
  },
  {
   "cell_type": "code",
   "execution_count": null,
   "metadata": {
    "id": "XljcTh75GVOT",
    "outputId": "440c2db8-9ccc-4848-83cd-7d2ac4c0ae3d",
    "slideshow": {
     "slide_type": "slide"
    }
   },
   "outputs": [],
   "source": [
    "duplicator(2), triplicator(2)"
   ]
  },
  {
   "cell_type": "code",
   "execution_count": 75,
   "metadata": {},
   "outputs": [],
   "source": [
    "# Argumentos posicionales\n",
    "\n",
    "def sum(*args):\n",
    "    print(len(args))\n",
    "    value = 0\n",
    "    for n in args:\n",
    "        value += n\n",
    "    return value"
   ]
  },
  {
   "cell_type": "code",
   "execution_count": 76,
   "metadata": {},
   "outputs": [],
   "source": [
    "lista_a = [1, 2, 8]"
   ]
  },
  {
   "cell_type": "code",
   "execution_count": null,
   "metadata": {},
   "outputs": [],
   "source": [
    "sum(1, 2, 8)"
   ]
  },
  {
   "cell_type": "code",
   "execution_count": 77,
   "metadata": {},
   "outputs": [
    {
     "name": "stdout",
     "output_type": "stream",
     "text": [
      "1\n"
     ]
    },
    {
     "ename": "TypeError",
     "evalue": "unsupported operand type(s) for +=: 'int' and 'list'",
     "output_type": "error",
     "traceback": [
      "\u001b[1;31m---------------------------------------------------------------------------\u001b[0m",
      "\u001b[1;31mTypeError\u001b[0m                                 Traceback (most recent call last)",
      "\u001b[1;32m<ipython-input-77-45d3b458dbb3>\u001b[0m in \u001b[0;36m<module>\u001b[1;34m\u001b[0m\n\u001b[1;32m----> 1\u001b[1;33m \u001b[0msum\u001b[0m\u001b[1;33m(\u001b[0m\u001b[0mlista_a\u001b[0m\u001b[1;33m)\u001b[0m\u001b[1;33m\u001b[0m\u001b[1;33m\u001b[0m\u001b[0m\n\u001b[0m",
      "\u001b[1;32m<ipython-input-75-b8316bbadedd>\u001b[0m in \u001b[0;36msum\u001b[1;34m(*args)\u001b[0m\n\u001b[0;32m      5\u001b[0m     \u001b[0mvalue\u001b[0m \u001b[1;33m=\u001b[0m \u001b[1;36m0\u001b[0m\u001b[1;33m\u001b[0m\u001b[1;33m\u001b[0m\u001b[0m\n\u001b[0;32m      6\u001b[0m     \u001b[1;32mfor\u001b[0m \u001b[0mn\u001b[0m \u001b[1;32min\u001b[0m \u001b[0margs\u001b[0m\u001b[1;33m:\u001b[0m\u001b[1;33m\u001b[0m\u001b[1;33m\u001b[0m\u001b[0m\n\u001b[1;32m----> 7\u001b[1;33m         \u001b[0mvalue\u001b[0m \u001b[1;33m+=\u001b[0m \u001b[0mn\u001b[0m\u001b[1;33m\u001b[0m\u001b[1;33m\u001b[0m\u001b[0m\n\u001b[0m\u001b[0;32m      8\u001b[0m     \u001b[1;32mreturn\u001b[0m \u001b[0mvalue\u001b[0m\u001b[1;33m\u001b[0m\u001b[1;33m\u001b[0m\u001b[0m\n",
      "\u001b[1;31mTypeError\u001b[0m: unsupported operand type(s) for +=: 'int' and 'list'"
     ]
    }
   ],
   "source": [
    "sum(*lista_a)"
   ]
  },
  {
   "cell_type": "code",
   "execution_count": 78,
   "metadata": {},
   "outputs": [
    {
     "name": "stdout",
     "output_type": "stream",
     "text": [
      "2\n"
     ]
    },
    {
     "data": {
      "text/plain": [
       "3"
      ]
     },
     "execution_count": 78,
     "metadata": {},
     "output_type": "execute_result"
    }
   ],
   "source": [
    "sum(1, 2)"
   ]
  },
  {
   "cell_type": "code",
   "execution_count": 79,
   "metadata": {},
   "outputs": [
    {
     "name": "stdout",
     "output_type": "stream",
     "text": [
      "6\n"
     ]
    },
    {
     "data": {
      "text/plain": [
       "45"
      ]
     },
     "execution_count": 79,
     "metadata": {},
     "output_type": "execute_result"
    }
   ],
   "source": [
    "sum(2, 3, 4, 6, 9, 21)"
   ]
  },
  {
   "cell_type": "code",
   "execution_count": 80,
   "metadata": {},
   "outputs": [
    {
     "name": "stdout",
     "output_type": "stream",
     "text": [
      "4\n"
     ]
    },
    {
     "data": {
      "text/plain": [
       "15"
      ]
     },
     "execution_count": 80,
     "metadata": {},
     "output_type": "execute_result"
    }
   ],
   "source": [
    "sum(*[2, 3, 4, 6])"
   ]
  },
  {
   "cell_type": "code",
   "execution_count": 81,
   "metadata": {},
   "outputs": [
    {
     "name": "stdout",
     "output_type": "stream",
     "text": [
      "4\n"
     ]
    },
    {
     "data": {
      "text/plain": [
       "15"
      ]
     },
     "execution_count": 81,
     "metadata": {},
     "output_type": "execute_result"
    }
   ],
   "source": [
    "sum(2, 3, 4, 6)"
   ]
  },
  {
   "cell_type": "code",
   "execution_count": 82,
   "metadata": {},
   "outputs": [],
   "source": [
    "def filter(**kwargs):\n",
    "    query = \"SELECT * FROM clientes\"\n",
    "    i = 0\n",
    "    print(type(kwargs))\n",
    "    for key, value in kwargs.items():\n",
    "        if i == 0:\n",
    "            query += \" WHERE \"\n",
    "        else:\n",
    "            query += \" AND \"\n",
    "        query += \"{}='{}'\".format(key, value)\n",
    "        i += 1\n",
    "    query += \";\"\n",
    "    return query"
   ]
  },
  {
   "cell_type": "code",
   "execution_count": 83,
   "metadata": {},
   "outputs": [
    {
     "name": "stdout",
     "output_type": "stream",
     "text": [
      "<class 'dict'>\n"
     ]
    },
    {
     "data": {
      "text/plain": [
       "\"SELECT * FROM clientes WHERE ciudad='Madrid' AND fecha_alta='25-10-2018' AND nombre='Lautaro';\""
      ]
     },
     "execution_count": 83,
     "metadata": {},
     "output_type": "execute_result"
    }
   ],
   "source": [
    "filter(ciudad=\"Madrid\", fecha_alta=\"25-10-2018\", nombre=\"Lautaro\")"
   ]
  },
  {
   "cell_type": "code",
   "execution_count": 84,
   "metadata": {},
   "outputs": [],
   "source": [
    "ejemplo = {\n",
    "    \"ciudad\": \"Madrid\",\n",
    "    \"fecha_alta\": \"25-10-2018\",\n",
    "    \"nombre\": \"Lautaro\"\n",
    "}"
   ]
  },
  {
   "cell_type": "code",
   "execution_count": 85,
   "metadata": {},
   "outputs": [
    {
     "data": {
      "text/plain": [
       "{'ciudad': 'Madrid', 'fecha_alta': '25-10-2018', 'nombre': 'Lautaro'}"
      ]
     },
     "execution_count": 85,
     "metadata": {},
     "output_type": "execute_result"
    }
   ],
   "source": [
    "ejemplo"
   ]
  },
  {
   "cell_type": "code",
   "execution_count": 87,
   "metadata": {},
   "outputs": [
    {
     "ename": "TypeError",
     "evalue": "'ciudad' is an invalid keyword argument for print()",
     "output_type": "error",
     "traceback": [
      "\u001b[1;31m---------------------------------------------------------------------------\u001b[0m",
      "\u001b[1;31mTypeError\u001b[0m                                 Traceback (most recent call last)",
      "\u001b[1;32m<ipython-input-87-1851cd7c79df>\u001b[0m in \u001b[0;36m<module>\u001b[1;34m\u001b[0m\n\u001b[1;32m----> 1\u001b[1;33m \u001b[0mprint\u001b[0m\u001b[1;33m(\u001b[0m\u001b[1;33m**\u001b[0m\u001b[0mejemplo\u001b[0m\u001b[1;33m)\u001b[0m\u001b[1;33m\u001b[0m\u001b[1;33m\u001b[0m\u001b[0m\n\u001b[0m",
      "\u001b[1;31mTypeError\u001b[0m: 'ciudad' is an invalid keyword argument for print()"
     ]
    }
   ],
   "source": [
    "print(**ejemplo)"
   ]
  },
  {
   "cell_type": "code",
   "execution_count": 88,
   "metadata": {},
   "outputs": [
    {
     "name": "stdout",
     "output_type": "stream",
     "text": [
      "<class 'dict'>\n"
     ]
    },
    {
     "data": {
      "text/plain": [
       "\"SELECT * FROM clientes WHERE ciudad='Madrid' AND fecha_alta='25-10-2018' AND nombre='Lautaro';\""
      ]
     },
     "execution_count": 88,
     "metadata": {},
     "output_type": "execute_result"
    }
   ],
   "source": [
    "filter(**ejemplo)"
   ]
  },
  {
   "cell_type": "code",
   "execution_count": null,
   "metadata": {},
   "outputs": [],
   "source": [
    "def ejemplo(arg1, arg2, arg3=3, *args, **kwargs)"
   ]
  },
  {
   "cell_type": "code",
   "execution_count": 89,
   "metadata": {},
   "outputs": [],
   "source": [
    "def ejemplo_2(arg1, arg2, arg3=3):\n",
    "        return arg1 + arg2 + arg3"
   ]
  },
  {
   "cell_type": "code",
   "execution_count": 90,
   "metadata": {},
   "outputs": [
    {
     "data": {
      "text/plain": [
       "12"
      ]
     },
     "execution_count": 90,
     "metadata": {},
     "output_type": "execute_result"
    }
   ],
   "source": [
    "ejemplo_2(4, 5)"
   ]
  },
  {
   "cell_type": "code",
   "execution_count": 91,
   "metadata": {},
   "outputs": [
    {
     "data": {
      "text/plain": [
       "12"
      ]
     },
     "execution_count": 91,
     "metadata": {},
     "output_type": "execute_result"
    }
   ],
   "source": [
    "ejemplo_2(arg2=4, arg1=5)"
   ]
  },
  {
   "cell_type": "markdown",
   "metadata": {
    "id": "zwvv9qCGGVOU",
    "slideshow": {
     "slide_type": "slide"
    }
   },
   "source": [
    "### 2.1 Funciones Lambda"
   ]
  },
  {
   "cell_type": "code",
   "execution_count": 96,
   "metadata": {
    "id": "ij7cBMTtGVOU",
    "outputId": "adc1d498-c1c8-448f-bf5b-c8330a43e2fe",
    "slideshow": {
     "slide_type": "slide"
    }
   },
   "outputs": [
    {
     "data": {
      "text/plain": [
       "function"
      ]
     },
     "execution_count": 96,
     "metadata": {},
     "output_type": "execute_result"
    }
   ],
   "source": [
    "# No abusar\n",
    "another_duplicator = lambda x: x*2 if x>4 else 3\n",
    "type(another_duplicator)"
   ]
  },
  {
   "cell_type": "code",
   "execution_count": 98,
   "metadata": {
    "id": "HxHXroYZGVOU",
    "outputId": "160af90a-5e70-4158-daa4-334b0d369b3a",
    "slideshow": {
     "slide_type": "slide"
    }
   },
   "outputs": [
    {
     "data": {
      "text/plain": [
       "10"
      ]
     },
     "execution_count": 98,
     "metadata": {},
     "output_type": "execute_result"
    }
   ],
   "source": [
    "another_duplicator(5)"
   ]
  },
  {
   "cell_type": "markdown",
   "metadata": {},
   "source": [
    "### Ejemplo: Secuencia de Fibonacci\n",
    "\n",
    "La secuencia de Fibonacci es la famosa secuencia que se define como:\n",
    "\n",
    "- $F_0 = 0$\n",
    "- $F_1 = 1$\n",
    "- $F_n = F_{n-1} + F_{n-2}$ para $n>1$\n",
    "\n",
    "Esto nos da como resultado:\n",
    "\n",
    "0, 1, 1, 2, 3, 5, 8, 13, 21, 34, ...\n"
   ]
  },
  {
   "cell_type": "code",
   "execution_count": null,
   "metadata": {},
   "outputs": [],
   "source": [
    "def F_n_2(n):\n",
    "    return F_n_2(n-1) + F_n_2(n-2) "
   ]
  },
  {
   "cell_type": "code",
   "execution_count": 99,
   "metadata": {},
   "outputs": [],
   "source": [
    "# Opción 1: solución recursiva.\n",
    "def F_n(n):\n",
    "    if n == 0: # Si n es 0 entonces devuelvo 0 \n",
    "        return 0\n",
    "    if n == 1:\n",
    "        return 1 # Si n es 1 entonces devuelvo 1\n",
    "    else:\n",
    "        return F_n(n-1) + F_n(n-2) # En cualquier otro caso devuelvo la suma de los dos números de Fibonacci preivos"
   ]
  },
  {
   "cell_type": "code",
   "execution_count": 100,
   "metadata": {},
   "outputs": [
    {
     "name": "stdout",
     "output_type": "stream",
     "text": [
      "63.6 µs ± 2.26 µs per loop (mean ± std. dev. of 7 runs, 10000 loops each)\n"
     ]
    }
   ],
   "source": [
    "%timeit [F_n(i) for i in range(10)]"
   ]
  },
  {
   "cell_type": "code",
   "execution_count": 101,
   "metadata": {},
   "outputs": [
    {
     "name": "stdout",
     "output_type": "stream",
     "text": [
      "949 ms ± 20.6 ms per loop (mean ± std. dev. of 7 runs, 1 loop each)\n"
     ]
    }
   ],
   "source": [
    "%timeit [F_n(i) for i in range(30)]"
   ]
  },
  {
   "cell_type": "code",
   "execution_count": 102,
   "metadata": {},
   "outputs": [],
   "source": [
    "# Opción 2: armamos loop while que va a iterar n veces, donde n es la cantidad de elementos de la secuencia\n",
    "\n",
    "def fibo(n):\n",
    "    \"\"\"\n",
    "    Inicializo a y b. En este caso \"a\" sería F_n-2 (F_0 al inicializarse) \n",
    "    y \"b\" F_n-1 (F_1 al inicializarse)\n",
    "    \"\"\"\n",
    "    \n",
    "    a, b = 0, 1\n",
    "    secuencia = [a, b]\n",
    "    \n",
    "    if n == 0:\n",
    "        return a\n",
    "    elif n == 1:\n",
    "        return b\n",
    "    \n",
    "    n_actual = 2 # número de iteración\n",
    "    while n_actual < n:\n",
    "        n_actual += 1 # sumo 1 a la iteración actual\n",
    "        a, b = b, a + b \n",
    "        secuencia.append(b) # guardo el nuevo b\n",
    "    return secuencia"
   ]
  },
  {
   "cell_type": "code",
   "execution_count": 103,
   "metadata": {},
   "outputs": [
    {
     "name": "stdout",
     "output_type": "stream",
     "text": [
      "2.31 µs ± 166 ns per loop (mean ± std. dev. of 7 runs, 100000 loops each)\n"
     ]
    }
   ],
   "source": [
    "%timeit fibo(10)"
   ]
  },
  {
   "cell_type": "code",
   "execution_count": 104,
   "metadata": {},
   "outputs": [
    {
     "name": "stdout",
     "output_type": "stream",
     "text": [
      "7.24 µs ± 182 ns per loop (mean ± std. dev. of 7 runs, 100000 loops each)\n"
     ]
    }
   ],
   "source": [
    "%timeit fibo(30)"
   ]
  },
  {
   "cell_type": "markdown",
   "metadata": {
    "id": "lZYQ3se4GVOV",
    "slideshow": {
     "slide_type": "slide"
    }
   },
   "source": [
    "# 3. Ramificación"
   ]
  },
  {
   "cell_type": "code",
   "execution_count": null,
   "metadata": {
    "id": "r3tpRSjPGVOV",
    "outputId": "feea4528-1255-4ef4-95e2-4f6cc2cbfdc9",
    "slideshow": {
     "slide_type": "slide"
    }
   },
   "outputs": [],
   "source": [
    "expression = True\n",
    "if expression:\n",
    "    print(\"True\")\n",
    "else:\n",
    "    print(\"False\")    "
   ]
  },
  {
   "cell_type": "markdown",
   "metadata": {
    "id": "MzcmK5LvGVOV",
    "slideshow": {
     "slide_type": "slide"
    }
   },
   "source": [
    "A diferencia de otros lenguajes, Python no tiene un equivalente de switch/select case. \n",
    "\n",
    "Una forma de obtener una funcionalidad similar es con cadenas if-elif-elif-....else."
   ]
  },
  {
   "cell_type": "code",
   "execution_count": null,
   "metadata": {
    "id": "OIg6rS0cGVOV",
    "outputId": "7c175b56-fe8c-423a-c2cf-8d54ed961e89",
    "slideshow": {
     "slide_type": "slide"
    }
   },
   "outputs": [],
   "source": [
    "expression = None\n",
    "if expression == 1:\n",
    "    print(\"Option 1\")\n",
    "elif expression ==  2:\n",
    "    print(\"Option 2\")\n",
    "# ...    \n",
    "else:\n",
    "    print(\"Default Option\")"
   ]
  },
  {
   "cell_type": "markdown",
   "metadata": {
    "id": "VVS5ve6SGVOW",
    "slideshow": {
     "slide_type": "slide"
    }
   },
   "source": [
    "Otra forma es con tablas (diccionarios) de acciones."
   ]
  },
  {
   "cell_type": "code",
   "execution_count": 105,
   "metadata": {
    "id": "kgde0yYNGVOW",
    "outputId": "faf03556-0a65-4599-c583-dc476266225b",
    "slideshow": {
     "slide_type": "slide"
    }
   },
   "outputs": [
    {
     "name": "stdout",
     "output_type": "stream",
     "text": [
      "Option 1\n"
     ]
    }
   ],
   "source": [
    "def action1():\n",
    "    print(\"Option 1\")\n",
    "    \n",
    "def action2():\n",
    "    print(\"Option 2\")\n",
    "    \n",
    "def default_action():\n",
    "    print(\"Default Option\")\n",
    "        \n",
    "action_map = {\n",
    "    1: action1,\n",
    "    2: action2,\n",
    "    'default': default_action\n",
    "}\n",
    "\n",
    "option=1\n",
    "# action_map[option]()\n",
    "\n",
    "action_map[option]() if option in action_map else action_map['default']()"
   ]
  },
  {
   "cell_type": "code",
   "execution_count": 106,
   "metadata": {},
   "outputs": [
    {
     "data": {
      "text/plain": [
       "True"
      ]
     },
     "execution_count": 106,
     "metadata": {},
     "output_type": "execute_result"
    }
   ],
   "source": [
    "1 in action_map"
   ]
  },
  {
   "cell_type": "markdown",
   "metadata": {
    "id": "zH1YvxANGVOW",
    "slideshow": {
     "slide_type": "slide"
    }
   },
   "source": [
    "# 4. Iteración"
   ]
  },
  {
   "cell_type": "markdown",
   "metadata": {
    "slideshow": {
     "slide_type": "slide"
    }
   },
   "source": [
    "> Iteración significa repetir varias veces un proceso con la intención de alcanzar una meta deseada, \n",
    "> objetivo o resultado. Cada repetición del proceso también se le denomina una \"iteración\", y los \n",
    "> resultados de una iteración se utilizan como punto de partida para la siguiente iteración.\n",
    "\n",
    "Fuente: Wikipedia."
   ]
  },
  {
   "cell_type": "markdown",
   "metadata": {
    "slideshow": {
     "slide_type": "slide"
    }
   },
   "source": [
    "Es habitual iterar sobre una colección de elementos para realizar alguna acción (por ejemplo, todos los elementos de un vector o matriz, las entradas de una tabla, los elementos de un conjunto)."
   ]
  },
  {
   "cell_type": "code",
   "execution_count": null,
   "metadata": {},
   "outputs": [],
   "source": [
    "# __iter__"
   ]
  },
  {
   "cell_type": "code",
   "execution_count": 108,
   "metadata": {
    "colab": {
     "base_uri": "https://localhost:8080/"
    },
    "executionInfo": {
     "elapsed": 910,
     "status": "ok",
     "timestamp": 1613948479118,
     "user": {
      "displayName": "Nicolas Horro",
      "photoUrl": "https://lh4.googleusercontent.com/--3DXBeoKCHg/AAAAAAAAAAI/AAAAAAAAAY0/pAcXsaDcvLQ/s64/photo.jpg",
      "userId": "02428399203512836803"
     },
     "user_tz": 180
    },
    "id": "gzDvmWUnGVOX",
    "outputId": "a6aa48af-11a5-4494-9d34-e3834796c455",
    "scrolled": true,
    "slideshow": {
     "slide_type": "slide"
    }
   },
   "outputs": [
    {
     "name": "stdout",
     "output_type": "stream",
     "text": [
      "1\n",
      "2\n",
      "3\n",
      "4\n"
     ]
    }
   ],
   "source": [
    "some_iterable_collection_1 = { 1,2,3,4 } # Puede ser una lista, tupla, diccionario, set, etc.\n",
    "\n",
    "# forEach\n",
    "for i in some_iterable_collection_1: \n",
    "    print(i)"
   ]
  },
  {
   "cell_type": "markdown",
   "metadata": {
    "id": "oSC9yhQm0-fn",
    "slideshow": {
     "slide_type": "slide"
    }
   },
   "source": [
    "A menudo es útil para cada iteración conocer el índice o posición de un elemento. **enumerate()** devuelve el índice de iteración seguido del elemento."
   ]
  },
  {
   "cell_type": "code",
   "execution_count": 109,
   "metadata": {},
   "outputs": [],
   "source": [
    "dict_a = {\n",
    "    \"A\": 1,\n",
    "    \"B\": 2,\n",
    "    \"C\": 3\n",
    "}"
   ]
  },
  {
   "cell_type": "code",
   "execution_count": null,
   "metadata": {},
   "outputs": [],
   "source": [
    "# for i in range(len(lista_a)):"
   ]
  },
  {
   "cell_type": "code",
   "execution_count": 110,
   "metadata": {},
   "outputs": [
    {
     "name": "stdout",
     "output_type": "stream",
     "text": [
      "0\n",
      "1\n",
      "2\n"
     ]
    }
   ],
   "source": [
    "for i in range(len(dict_a.keys())):\n",
    "    print(i)"
   ]
  },
  {
   "cell_type": "code",
   "execution_count": 112,
   "metadata": {},
   "outputs": [
    {
     "name": "stdout",
     "output_type": "stream",
     "text": [
      "0 1\n",
      "1 2\n",
      "2 3\n"
     ]
    }
   ],
   "source": [
    "for i,v in enumerate(dict_a.values()):\n",
    "    print(i, v)"
   ]
  },
  {
   "cell_type": "code",
   "execution_count": 113,
   "metadata": {
    "colab": {
     "base_uri": "https://localhost:8080/"
    },
    "executionInfo": {
     "elapsed": 927,
     "status": "ok",
     "timestamp": 1613948507385,
     "user": {
      "displayName": "Nicolas Horro",
      "photoUrl": "https://lh4.googleusercontent.com/--3DXBeoKCHg/AAAAAAAAAAI/AAAAAAAAAY0/pAcXsaDcvLQ/s64/photo.jpg",
      "userId": "02428399203512836803"
     },
     "user_tz": 180
    },
    "id": "0P3irJDP0whT",
    "outputId": "c1b79f63-5b54-4778-f8a6-5e7b34cfc325",
    "slideshow": {
     "slide_type": "slide"
    }
   },
   "outputs": [
    {
     "name": "stdout",
     "output_type": "stream",
     "text": [
      "0 cero\n",
      "1 uno\n",
      "2 dos\n",
      "3 último\n"
     ]
    }
   ],
   "source": [
    "for i,v in enumerate([\"cero\",\"uno\",\"dos\",\"último\"]):\n",
    "    print(i,v)"
   ]
  },
  {
   "cell_type": "markdown",
   "metadata": {
    "id": "EA_ReXPZGVOX",
    "slideshow": {
     "slide_type": "slide"
    }
   },
   "source": [
    "## 4.1 List comprehension y  dictionary comprehension\n",
    "\n",
    "Es menudo es útil construir listas a partir de iteraciones en colecciones."
   ]
  },
  {
   "cell_type": "code",
   "execution_count": 114,
   "metadata": {},
   "outputs": [
    {
     "data": {
      "text/plain": [
       "{1, 2, 3, 4}"
      ]
     },
     "execution_count": 114,
     "metadata": {},
     "output_type": "execute_result"
    }
   ],
   "source": [
    "some_iterable_collection_1"
   ]
  },
  {
   "cell_type": "code",
   "execution_count": 115,
   "metadata": {},
   "outputs": [],
   "source": [
    "a = [1, 2, 3, 4]"
   ]
  },
  {
   "cell_type": "code",
   "execution_count": null,
   "metadata": {},
   "outputs": [],
   "source": [
    "# "
   ]
  },
  {
   "cell_type": "code",
   "execution_count": 116,
   "metadata": {},
   "outputs": [],
   "source": [
    "b = [5, 6, 7, 9]"
   ]
  },
  {
   "cell_type": "code",
   "execution_count": 117,
   "metadata": {},
   "outputs": [
    {
     "data": {
      "text/plain": [
       "[1, 2, 3, 4, 1, 2, 3, 4, 1, 2, 3, 4]"
      ]
     },
     "execution_count": 117,
     "metadata": {},
     "output_type": "execute_result"
    }
   ],
   "source": [
    "a * 3"
   ]
  },
  {
   "cell_type": "code",
   "execution_count": 118,
   "metadata": {},
   "outputs": [
    {
     "data": {
      "text/plain": [
       "[1, 2, 3, 4, 5, 6, 7, 9]"
      ]
     },
     "execution_count": 118,
     "metadata": {},
     "output_type": "execute_result"
    }
   ],
   "source": [
    "a + b"
   ]
  },
  {
   "cell_type": "code",
   "execution_count": 120,
   "metadata": {},
   "outputs": [
    {
     "data": {
      "text/plain": [
       "[3, 6, 9, 12]"
      ]
     },
     "execution_count": 120,
     "metadata": {},
     "output_type": "execute_result"
    }
   ],
   "source": [
    "[i*3 for i in some_iterable_collection_1]"
   ]
  },
  {
   "cell_type": "code",
   "execution_count": 119,
   "metadata": {
    "id": "GtclwDa3GVOX",
    "outputId": "0d98adb0-bc0f-4cf3-9194-2c867906fa56",
    "slideshow": {
     "slide_type": "slide"
    }
   },
   "outputs": [
    {
     "data": {
      "text/plain": [
       "[6, 20]"
      ]
     },
     "execution_count": 119,
     "metadata": {},
     "output_type": "execute_result"
    }
   ],
   "source": [
    "[(i**2 + i) for i in some_iterable_collection_1 if i%2==0]"
   ]
  },
  {
   "cell_type": "code",
   "execution_count": 121,
   "metadata": {},
   "outputs": [
    {
     "ename": "NameError",
     "evalue": "name 'some_iterable_collection_2' is not defined",
     "output_type": "error",
     "traceback": [
      "\u001b[1;31m---------------------------------------------------------------------------\u001b[0m",
      "\u001b[1;31mNameError\u001b[0m                                 Traceback (most recent call last)",
      "\u001b[1;32m<ipython-input-121-acdce4ea1fc9>\u001b[0m in \u001b[0;36m<module>\u001b[1;34m\u001b[0m\n\u001b[1;32m----> 1\u001b[1;33m \u001b[1;32mfor\u001b[0m \u001b[0mk\u001b[0m \u001b[1;32min\u001b[0m \u001b[0msome_iterable_collection_2\u001b[0m\u001b[1;33m.\u001b[0m\u001b[0mitems\u001b[0m\u001b[1;33m(\u001b[0m\u001b[1;33m)\u001b[0m\u001b[1;33m:\u001b[0m\u001b[1;33m\u001b[0m\u001b[1;33m\u001b[0m\u001b[0m\n\u001b[0m\u001b[0;32m      2\u001b[0m     \u001b[0mprint\u001b[0m\u001b[1;33m(\u001b[0m\u001b[0mk\u001b[0m\u001b[1;33m)\u001b[0m\u001b[1;33m\u001b[0m\u001b[1;33m\u001b[0m\u001b[0m\n",
      "\u001b[1;31mNameError\u001b[0m: name 'some_iterable_collection_2' is not defined"
     ]
    }
   ],
   "source": [
    "for k in some_iterable_collection_2.items():\n",
    "    print(k)"
   ]
  },
  {
   "cell_type": "code",
   "execution_count": null,
   "metadata": {},
   "outputs": [],
   "source": [
    "type(some_iterable_collection_2.items())"
   ]
  },
  {
   "cell_type": "code",
   "execution_count": null,
   "metadata": {},
   "outputs": [],
   "source": [
    "k, v = list(some_iterable_collection_2.items())[0]"
   ]
  },
  {
   "cell_type": "code",
   "execution_count": null,
   "metadata": {},
   "outputs": [],
   "source": [
    "v"
   ]
  },
  {
   "cell_type": "code",
   "execution_count": 123,
   "metadata": {
    "id": "65u1V4FOGVOY",
    "outputId": "86395d51-ed6c-444d-c1eb-450b23a88991",
    "slideshow": {
     "slide_type": "slide"
    }
   },
   "outputs": [
    {
     "data": {
      "text/plain": [
       "{'a': 1, 'b': 4, 'c': 9}"
      ]
     },
     "execution_count": 123,
     "metadata": {},
     "output_type": "execute_result"
    }
   ],
   "source": [
    "some_iterable_collection_2 = {\"a\": 1, \"b\": 2, \"c\": 3}\n",
    "\n",
    "{k:v**2 for k, v in some_iterable_collection_2.items()}"
   ]
  },
  {
   "cell_type": "markdown",
   "metadata": {
    "slideshow": {
     "slide_type": "slide"
    }
   },
   "source": [
    "## 4.2 while()"
   ]
  },
  {
   "cell_type": "markdown",
   "metadata": {
    "slideshow": {
     "slide_type": "slide"
    }
   },
   "source": [
    "A veces la condición de término de un proceso no es haber consumido el último elemento de un conjunto, sino haber alcanzado una condición."
   ]
  },
  {
   "cell_type": "code",
   "execution_count": null,
   "metadata": {
    "slideshow": {
     "slide_type": "slide"
    }
   },
   "outputs": [],
   "source": [
    "import random\n",
    "\n",
    "# Genera una secuencia de números aleatorios hasta que alguno supere threeshold\n",
    "# o se llegue a un máximo de iteraciones\n",
    "def generate_seq(threeshold=0.5,max_n=10):\n",
    "    result = []\n",
    "    keep_running = True\n",
    "    i = 0\n",
    "    while keep_running:        \n",
    "        x = random.random()                 \n",
    "        if (x <= threeshold):\n",
    "            result.append(x) \n",
    "        # keep_running --> False o True\n",
    "        keep_running = (i < max_n) & (x <= threeshold)\n",
    "        i+=1\n",
    "    return result\n",
    "\n",
    "generate_seq(0.6,5)"
   ]
  },
  {
   "cell_type": "markdown",
   "metadata": {
    "id": "jPD9xTx-GVOY",
    "slideshow": {
     "slide_type": "slide"
    }
   },
   "source": [
    "# 5. Programación Orientada a Objetos"
   ]
  },
  {
   "cell_type": "markdown",
   "metadata": {
    "slideshow": {
     "slide_type": "slide"
    }
   },
   "source": [
    "- POO es un paradigma de programación que introduce el concepto de objeto como métafora de una entidad real del dominio del problema (por ejemplo Auto, Empleado, Transacción, etc.).\n",
    "- Cada objeto es la instanciación de una clase que define un conjunto de métodos y propiedades."
   ]
  },
  {
   "cell_type": "code",
   "execution_count": 124,
   "metadata": {
    "id": "I5pCc1MFGVOY",
    "slideshow": {
     "slide_type": "slide"
    }
   },
   "outputs": [],
   "source": [
    "# self hace referencia al objeto\n",
    "# self.name => atributo\n",
    "# self.greet() => métodos\n",
    "\n",
    "# cls hace referencia a la clase\n",
    "\n",
    "class Person():\n",
    "    cant_personas = 0\n",
    "    # constructor\n",
    "    def __init__(self, name, age):\n",
    "        # Testear los argumentos del constructor\n",
    "        self.name = name\n",
    "        self.age = age\n",
    "    \n",
    "    def greet(self):\n",
    "        print(\"Hola, \" + self.name)"
   ]
  },
  {
   "cell_type": "code",
   "execution_count": 125,
   "metadata": {
    "id": "d2o1jPWCGVOY",
    "outputId": "8460a140-7506-40ec-bb61-f9b45cd537c8",
    "slideshow": {
     "slide_type": "slide"
    }
   },
   "outputs": [
    {
     "name": "stdout",
     "output_type": "stream",
     "text": [
      "Hola, Iron Man\n"
     ]
    }
   ],
   "source": [
    "# person1 es una instancia de Person (objeto)\n",
    "person1 = Person(name = \"Iron Man\", age = 35)\n",
    "# llamo a un método de instancia\n",
    "person1.greet()"
   ]
  },
  {
   "cell_type": "code",
   "execution_count": 126,
   "metadata": {},
   "outputs": [],
   "source": [
    "person3 = Person(\"Lautaro\", 26)"
   ]
  },
  {
   "cell_type": "code",
   "execution_count": 127,
   "metadata": {},
   "outputs": [
    {
     "name": "stdout",
     "output_type": "stream",
     "text": [
      "Hola, Lautaro\n"
     ]
    }
   ],
   "source": [
    "person3.greet()"
   ]
  },
  {
   "cell_type": "code",
   "execution_count": 128,
   "metadata": {
    "id": "zbGN8UvbGVOZ",
    "outputId": "3380f1ca-f7fd-4083-edbe-6f9a3f415b76",
    "slideshow": {
     "slide_type": "slide"
    }
   },
   "outputs": [
    {
     "name": "stdout",
     "output_type": "stream",
     "text": [
      "Hola, Batman\n"
     ]
    }
   ],
   "source": [
    "person2 = Person(name = \"Batman\", age = 33)\n",
    "person2.greet()"
   ]
  },
  {
   "cell_type": "code",
   "execution_count": 129,
   "metadata": {},
   "outputs": [
    {
     "data": {
      "text/plain": [
       "33"
      ]
     },
     "execution_count": 129,
     "metadata": {},
     "output_type": "execute_result"
    }
   ],
   "source": [
    "person2.age"
   ]
  },
  {
   "cell_type": "markdown",
   "metadata": {},
   "source": [
    "Los atributos también son conocidos como variables de instancia, en contraposición a las variables de clase. Las variables de instancia toman un valor específico a una instancia en particular (por eso se emplea el término **self**), por su parte, las variables de clase tienen un valor común para todas las instancias de una clase. Por convención las variables de clase se definen antes del constructor y no llevan **self** en su definición pero sí cuando se la quiere llamar."
   ]
  },
  {
   "cell_type": "code",
   "execution_count": 131,
   "metadata": {},
   "outputs": [],
   "source": [
    "class Curso:\n",
    "    max_alumnos = 35 # definimos variable de clase\n",
    "    \n",
    "    def __init__(self, nombre, duracion, alumnos = None, costo=10):\n",
    "        self.nombre = nombre\n",
    "        self.duracion = duracion\n",
    "        if alumnos is None:\n",
    "            self.alumnos = []\n",
    "        else:\n",
    "            self.alumnos = alumnos\n",
    "        self.costo = costo # costo tiene un valor por default\n",
    "\n",
    "    def inscribir_alumno(self, nombre):\n",
    "        if len(self.alumnos)<=self.max_alumnos:\n",
    "            self.alumnos.append(nombre) # para poder llamar a alumnos tengo que usar self.\n",
    "            print(f'Se agregó al alumno/a {nombre}')\n",
    "\n",
    "    def tomar_lista(self):\n",
    "        for a in self.alumnos:\n",
    "            print(f'Alumno: {a}')\n",
    "\n",
    "    def resumen(self):\n",
    "        print(f'Curso {self.nombre}, {self.duracion} clases pensadas para {len(self.alumnos)} alumnos\\n'\n",
    "              f'Por el muy módico precio de {self.costo} rupias.',\n",
    "              # llamo variable de clase:\n",
    "              f'La ocupación actual es del {round(len(self.alumnos)/self.max_alumnos,2)*100}%') "
   ]
  },
  {
   "cell_type": "markdown",
   "metadata": {
    "id": "4xJhlTB8GVOZ",
    "slideshow": {
     "slide_type": "slide"
    }
   },
   "source": [
    "## 5.1 Herencia, Encapsulamiento y Polimorfismo"
   ]
  },
  {
   "cell_type": "markdown",
   "metadata": {
    "id": "MuISXPATGVOZ",
    "slideshow": {
     "slide_type": "slide"
    }
   },
   "source": [
    "#### Herencia\n",
    "\n",
    "- Define una relación entre dos clases en la que existe una clase padre (parent) y una clase heredera. \n",
    "- La clase heredera recibe todas las propiedades y métodos de la clase padre. \n",
    "- El objetivo de la herencia es permitir reutilizar el código, definiendo clases de más generales a más específicas sin replicar en las últimas de manera explícita lo resuelto en las anteriores."
   ]
  },
  {
   "cell_type": "code",
   "execution_count": 136,
   "metadata": {
    "id": "MwrnzHvBGVOa",
    "slideshow": {
     "slide_type": "slide"
    }
   },
   "outputs": [],
   "source": [
    "class WalkingPerson(Person):\n",
    "    def __init__(self, name, age):\n",
    "        super().__init__(name, age)\n",
    "#         Person.__init__(self, name, age)\n",
    "    def greet(self):\n",
    "        print(\"New method for greeting {}\".format(self.name))\n",
    "    \n",
    "    def walk(self):\n",
    "        print(\"My name is {} and I'm walking\".format(self.name))    "
   ]
  },
  {
   "cell_type": "code",
   "execution_count": 137,
   "metadata": {
    "id": "tvPbNn7VGVOb",
    "outputId": "4dfc6eef-fb77-47a0-95da-362a97b0ce52",
    "slideshow": {
     "slide_type": "slide"
    }
   },
   "outputs": [
    {
     "name": "stdout",
     "output_type": "stream",
     "text": [
      "My name is Usain and I'm walking\n",
      "New method for greeting Usain\n"
     ]
    }
   ],
   "source": [
    "person3 = WalkingPerson(name=\"Usain\", age=32 )\n",
    "person3.walk()\n",
    "person3.greet()"
   ]
  },
  {
   "cell_type": "markdown",
   "metadata": {
    "id": "AviRdtLGGVOb",
    "slideshow": {
     "slide_type": "slide"
    }
   },
   "source": [
    "#### Encapsulamiento\n",
    "\n",
    "El encapsulamiento se utiliza para restringir el acceso a métodos y variables estableciendo el concepto de privacidad. En Python se prefijan los métodos y atributos privados con '__'."
   ]
  },
  {
   "cell_type": "code",
   "execution_count": 138,
   "metadata": {
    "id": "xLfGJDY1GVOb",
    "slideshow": {
     "slide_type": "slide"
    }
   },
   "outputs": [],
   "source": [
    "class Car:    \n",
    "    __max_speed = 10\n",
    "    def __init__(self):        \n",
    "        self.__update_software()\n",
    "        \n",
    "    def drive(self):\n",
    "        print('driving')\n",
    "\n",
    "    def __update_software(self):\n",
    "        print('updating software')\n",
    "        __max_speed = 20"
   ]
  },
  {
   "cell_type": "code",
   "execution_count": 139,
   "metadata": {
    "id": "kZPTrQsAGVOc",
    "slideshow": {
     "slide_type": "slide"
    }
   },
   "outputs": [
    {
     "name": "stdout",
     "output_type": "stream",
     "text": [
      "updating software\n",
      "driving\n"
     ]
    }
   ],
   "source": [
    "car = Car()\n",
    "car.drive()\n",
    "# car.__update_software() # Falla"
   ]
  },
  {
   "cell_type": "code",
   "execution_count": 140,
   "metadata": {},
   "outputs": [
    {
     "ename": "AttributeError",
     "evalue": "'Car' object has no attribute '__update_software'",
     "output_type": "error",
     "traceback": [
      "\u001b[1;31m---------------------------------------------------------------------------\u001b[0m",
      "\u001b[1;31mAttributeError\u001b[0m                            Traceback (most recent call last)",
      "\u001b[1;32m<ipython-input-140-8848ad0b34fd>\u001b[0m in \u001b[0;36m<module>\u001b[1;34m\u001b[0m\n\u001b[1;32m----> 1\u001b[1;33m \u001b[0mcar\u001b[0m\u001b[1;33m.\u001b[0m\u001b[0m__update_software\u001b[0m\u001b[1;33m(\u001b[0m\u001b[1;33m)\u001b[0m\u001b[1;33m\u001b[0m\u001b[1;33m\u001b[0m\u001b[0m\n\u001b[0m",
      "\u001b[1;31mAttributeError\u001b[0m: 'Car' object has no attribute '__update_software'"
     ]
    }
   ],
   "source": [
    "car.__update_software()"
   ]
  },
  {
   "cell_type": "markdown",
   "metadata": {},
   "source": [
    "Dos formas distintas de encapsulamiento:\n",
    "\n",
    "- `_nopublico`\n",
    "- `__protegido`\n",
    "\n",
    "Los atributos o método no públicos pueden ser accedidos desde el objeto y llevan el prefijo \"\\_\". La utilidad de este es indicarle al usuario que es una variable o método privado, de uso interno en el código de la clase y que no está pensando que sea usado desde afuera, por el usuario. \n",
    "\n",
    "Por otra parte, en el caso de usar como prefijo \"\\_\\_\" (doble \"\\_\") directamente vamos a ocultar la variable o método de la lista de sugerencias para el usuario y tampoco va a poder invocarlo desde el objeto. Por este motivo, decimos que el atributo o método está protegido."
   ]
  },
  {
   "cell_type": "code",
   "execution_count": 141,
   "metadata": {},
   "outputs": [],
   "source": [
    "class Auto():\n",
    "\n",
    "    def __init__(self, color, marca, velocidad_maxima):\n",
    "        self.color = color\n",
    "        self.marca = marca\n",
    "        self.__velocidad_maxima = 200\n",
    "        self.velocidad = 0\n",
    "        self.__contador = 0 # kilometros recorridos\n",
    "    \n",
    "    def avanzar(self, horas=1, velocidad=10):\n",
    "        if self._chequear_velocidad(velocidad):\n",
    "            self.velocidad = velocidad\n",
    "            print(f'avanzando durante {horas} horas')\n",
    "            self.__contador += horas*self.velocidad\n",
    "        else:\n",
    "            print(f\"Tu auto no puede llegar a tanta velocidad, el máximo es {self.__velocidad_maxima}\")\n",
    "    \n",
    "    def _chequear_velocidad(self, velocidad):\n",
    "        es_valida = False\n",
    "        if velocidad < self.__velocidad_maxima:\n",
    "            es_valida = True\n",
    "            if self.velocidad < velocidad:\n",
    "                print(\"Vas a acelerar!\")\n",
    "            else:\n",
    "                print(\"Vas a desaceler!\")\n",
    "        else:\n",
    "            print(\"Tu motor no permite ir tan rápido\")\n",
    "            es_valida = False\n",
    "        return es_valida\n",
    "    \n",
    "    def status(self):\n",
    "        print(f\"Vas a una velocidad de {self.velocidad} y llevás {self.__contador} km. recorridos\")"
   ]
  },
  {
   "cell_type": "code",
   "execution_count": 142,
   "metadata": {},
   "outputs": [],
   "source": [
    "superauto = Auto('rojo','Ferraudi', 200)"
   ]
  },
  {
   "cell_type": "code",
   "execution_count": 143,
   "metadata": {},
   "outputs": [
    {
     "name": "stdout",
     "output_type": "stream",
     "text": [
      "Vas a acelerar!\n",
      "avanzando durante 10 horas\n"
     ]
    }
   ],
   "source": [
    "superauto.avanzar(10)"
   ]
  },
  {
   "cell_type": "code",
   "execution_count": 144,
   "metadata": {},
   "outputs": [
    {
     "name": "stdout",
     "output_type": "stream",
     "text": [
      "Vas a una velocidad de 10 y llevás 100 km. recorridos\n"
     ]
    }
   ],
   "source": [
    "superauto.status()"
   ]
  },
  {
   "cell_type": "code",
   "execution_count": 145,
   "metadata": {},
   "outputs": [
    {
     "ename": "AttributeError",
     "evalue": "'Auto' object has no attribute '__contador'",
     "output_type": "error",
     "traceback": [
      "\u001b[1;31m---------------------------------------------------------------------------\u001b[0m",
      "\u001b[1;31mAttributeError\u001b[0m                            Traceback (most recent call last)",
      "\u001b[1;32m<ipython-input-145-9b6c8301555e>\u001b[0m in \u001b[0;36m<module>\u001b[1;34m\u001b[0m\n\u001b[1;32m----> 1\u001b[1;33m \u001b[0msuperauto\u001b[0m\u001b[1;33m.\u001b[0m\u001b[0m__contador\u001b[0m\u001b[1;33m\u001b[0m\u001b[1;33m\u001b[0m\u001b[0m\n\u001b[0m",
      "\u001b[1;31mAttributeError\u001b[0m: 'Auto' object has no attribute '__contador'"
     ]
    }
   ],
   "source": [
    "superauto.__contador "
   ]
  },
  {
   "cell_type": "code",
   "execution_count": 146,
   "metadata": {},
   "outputs": [
    {
     "name": "stdout",
     "output_type": "stream",
     "text": [
      "Vas a desaceler!\n"
     ]
    },
    {
     "data": {
      "text/plain": [
       "True"
      ]
     },
     "execution_count": 146,
     "metadata": {},
     "output_type": "execute_result"
    }
   ],
   "source": [
    "superauto._chequear_velocidad(10)"
   ]
  },
  {
   "cell_type": "code",
   "execution_count": null,
   "metadata": {},
   "outputs": [],
   "source": [
    "# Properties"
   ]
  },
  {
   "cell_type": "markdown",
   "metadata": {
    "id": "zunc-5NJGVOc",
    "slideshow": {
     "slide_type": "slide"
    }
   },
   "source": [
    "#### Polimorfismo\n",
    "\n",
    "El polimorfismo permite definir métodos en una clase base y re-implementarlos de distinta manera pero con el mismo nombre en las clases herederas, logrando un comportamiento distinto dependiendo de la instancia en la que se invocan."
   ]
  },
  {
   "cell_type": "code",
   "execution_count": 147,
   "metadata": {
    "id": "YJF_G3vnGVOc",
    "slideshow": {
     "slide_type": "slide"
    }
   },
   "outputs": [],
   "source": [
    "class Vehicle:\n",
    "    def __init__(self,*args,**kwargs):\n",
    "        pass\n",
    "    \n",
    "    def throttle(self,value):\n",
    "        raise NotImplemented\n",
    "    \n",
    "    def steer(self,angle):\n",
    "        raise NotImplemented\n",
    "\n",
    "        \n",
    "        \n",
    "        \n",
    "class Car(Vehicle):\n",
    "    def __init__(self,*args,**kwargs):\n",
    "        pass\n",
    "    \n",
    "    def throttle(self,value):\n",
    "        print(\"Throtttling car\")\n",
    "    \n",
    "    def steer(self,angle):\n",
    "        print(\"Steering car\")\n",
    "        \n",
    "class Airplane(Vehicle):\n",
    "    def __init__(self,*args,**kwargs):\n",
    "        pass\n",
    "    \n",
    "    def throttle(self,value):\n",
    "        print(\"Throtttling airplane\")\n",
    "    \n",
    "    def steer(self,angle):\n",
    "        print(\"Steering airplane\")"
   ]
  },
  {
   "cell_type": "code",
   "execution_count": 148,
   "metadata": {
    "id": "27UlFu3YGVOd",
    "outputId": "8efe72ea-8f16-4664-ffb8-c391036926c8",
    "slideshow": {
     "slide_type": "slide"
    }
   },
   "outputs": [
    {
     "name": "stdout",
     "output_type": "stream",
     "text": [
      "Driving a <class '__main__.Car'>\n",
      "Throtttling car\n",
      "Steering car\n",
      "Driving a <class '__main__.Airplane'>\n",
      "Throtttling airplane\n",
      "Steering airplane\n"
     ]
    }
   ],
   "source": [
    "def drive_vehicle(vehicle):\n",
    "    print(\"Driving a {}\".format(type(vehicle)))\n",
    "    vehicle.throttle(1)\n",
    "    vehicle.steer(0.45)\n",
    "    \n",
    "drive_vehicle(Car())    \n",
    "drive_vehicle(Airplane())    "
   ]
  },
  {
   "cell_type": "code",
   "execution_count": 150,
   "metadata": {},
   "outputs": [],
   "source": [
    "a = 3"
   ]
  },
  {
   "cell_type": "code",
   "execution_count": 151,
   "metadata": {},
   "outputs": [
    {
     "data": {
      "text/plain": [
       "['__abs__',\n",
       " '__add__',\n",
       " '__and__',\n",
       " '__bool__',\n",
       " '__ceil__',\n",
       " '__class__',\n",
       " '__delattr__',\n",
       " '__dir__',\n",
       " '__divmod__',\n",
       " '__doc__',\n",
       " '__eq__',\n",
       " '__float__',\n",
       " '__floor__',\n",
       " '__floordiv__',\n",
       " '__format__',\n",
       " '__ge__',\n",
       " '__getattribute__',\n",
       " '__getnewargs__',\n",
       " '__gt__',\n",
       " '__hash__',\n",
       " '__index__',\n",
       " '__init__',\n",
       " '__init_subclass__',\n",
       " '__int__',\n",
       " '__invert__',\n",
       " '__le__',\n",
       " '__lshift__',\n",
       " '__lt__',\n",
       " '__mod__',\n",
       " '__mul__',\n",
       " '__ne__',\n",
       " '__neg__',\n",
       " '__new__',\n",
       " '__or__',\n",
       " '__pos__',\n",
       " '__pow__',\n",
       " '__radd__',\n",
       " '__rand__',\n",
       " '__rdivmod__',\n",
       " '__reduce__',\n",
       " '__reduce_ex__',\n",
       " '__repr__',\n",
       " '__rfloordiv__',\n",
       " '__rlshift__',\n",
       " '__rmod__',\n",
       " '__rmul__',\n",
       " '__ror__',\n",
       " '__round__',\n",
       " '__rpow__',\n",
       " '__rrshift__',\n",
       " '__rshift__',\n",
       " '__rsub__',\n",
       " '__rtruediv__',\n",
       " '__rxor__',\n",
       " '__setattr__',\n",
       " '__sizeof__',\n",
       " '__str__',\n",
       " '__sub__',\n",
       " '__subclasshook__',\n",
       " '__truediv__',\n",
       " '__trunc__',\n",
       " '__xor__',\n",
       " 'as_integer_ratio',\n",
       " 'bit_length',\n",
       " 'conjugate',\n",
       " 'denominator',\n",
       " 'from_bytes',\n",
       " 'imag',\n",
       " 'numerator',\n",
       " 'real',\n",
       " 'to_bytes']"
      ]
     },
     "execution_count": 151,
     "metadata": {},
     "output_type": "execute_result"
    }
   ],
   "source": [
    "dir(a)"
   ]
  },
  {
   "cell_type": "code",
   "execution_count": 149,
   "metadata": {},
   "outputs": [
    {
     "data": {
      "text/plain": [
       "['__class__',\n",
       " '__delattr__',\n",
       " '__dict__',\n",
       " '__dir__',\n",
       " '__doc__',\n",
       " '__eq__',\n",
       " '__format__',\n",
       " '__ge__',\n",
       " '__getattribute__',\n",
       " '__gt__',\n",
       " '__hash__',\n",
       " '__init__',\n",
       " '__init_subclass__',\n",
       " '__le__',\n",
       " '__lt__',\n",
       " '__module__',\n",
       " '__ne__',\n",
       " '__new__',\n",
       " '__reduce__',\n",
       " '__reduce_ex__',\n",
       " '__repr__',\n",
       " '__setattr__',\n",
       " '__sizeof__',\n",
       " '__str__',\n",
       " '__subclasshook__',\n",
       " '__weakref__',\n",
       " 'steer',\n",
       " 'throttle']"
      ]
     },
     "execution_count": 149,
     "metadata": {},
     "output_type": "execute_result"
    }
   ],
   "source": [
    "dir(Vehicle())"
   ]
  },
  {
   "cell_type": "code",
   "execution_count": 152,
   "metadata": {},
   "outputs": [],
   "source": [
    "a = {'a': 1, 'b': 55}"
   ]
  },
  {
   "cell_type": "code",
   "execution_count": 153,
   "metadata": {},
   "outputs": [],
   "source": [
    "claves = a.keys()"
   ]
  },
  {
   "cell_type": "code",
   "execution_count": 154,
   "metadata": {},
   "outputs": [
    {
     "data": {
      "text/plain": [
       "dict_keys"
      ]
     },
     "execution_count": 154,
     "metadata": {},
     "output_type": "execute_result"
    }
   ],
   "source": [
    "type(claves)"
   ]
  },
  {
   "cell_type": "code",
   "execution_count": 156,
   "metadata": {},
   "outputs": [
    {
     "data": {
      "text/plain": [
       "'a'"
      ]
     },
     "execution_count": 156,
     "metadata": {},
     "output_type": "execute_result"
    }
   ],
   "source": [
    "list(claves)[0]"
   ]
  },
  {
   "cell_type": "markdown",
   "metadata": {},
   "source": [
    "## Tipos de errores\n",
    "\n",
    "En Python existen diferentes tipos de errores que ocurren en tiempo de ejecución. El **traceback** o **stack trace** nos muestra el camino del error, desde cómo inicia y a donde se propaga. \n",
    "\n",
    "Las cosas a las que en principio les debemos prestar atención son:\n",
    "\n",
    "   1. El nombre del error, en este caso **TypeError**\n",
    "   2. La explicación dada en el último renglón: \"'tuple' object doesn't support item deletion\"\n",
    "   3. La flecha que nos indica la línea en la que ocurrió el error"
   ]
  },
  {
   "cell_type": "markdown",
   "metadata": {},
   "source": [
    "Existen distintos tipos de errores en Python, pueden consultar la lista de todas las excepciones básicas acá:\n",
    "https://docs.python.org/3/library/exceptions.html#bltin-exceptions\n",
    "\n",
    "Sin embargo, las excepciones más frecuentes son:\n",
    "\n",
    "**AttributeError**: cuando tratamos de llamar a una referencia que no existe.\n",
    "\n",
    "**NameError**: cuando se llama a una variable u otro nombre que no está definido en el ambiente en que estamos trabajando.\n",
    "\n",
    "**KeyError**: cuando queremos llamar a una llave que no existe, por ejemplo, en un diccionario.\n",
    "\n",
    "**SyntaxError**: cuando hay un problema de sintaxis, errores muy comunes al comienzo pueden ser que no se cerró una llave o corchete, que falta alguna coma o dos puntos.\n",
    "\n",
    "**TypeError**: cuando el tipo de soporta una determinada operación.\n",
    "\n",
    "**IndexError**: cuando el índice al que se quiere acceder no existe, generalmente debido a que se llama a un índice mayor al largo de la lista."
   ]
  },
  {
   "cell_type": "code",
   "execution_count": 158,
   "metadata": {},
   "outputs": [
    {
     "ename": "KeyError",
     "evalue": "'La clave no pertenece al diccionario definido'",
     "output_type": "error",
     "traceback": [
      "\u001b[1;31m---------------------------------------------------------------------------\u001b[0m",
      "\u001b[1;31mKeyError\u001b[0m                                  Traceback (most recent call last)",
      "\u001b[1;32m<ipython-input-158-d9527c72d5a1>\u001b[0m in \u001b[0;36m<module>\u001b[1;34m\u001b[0m\n\u001b[0;32m      4\u001b[0m     \u001b[0mprint\u001b[0m\u001b[1;33m(\u001b[0m\u001b[0ma\u001b[0m\u001b[1;33m[\u001b[0m\u001b[0mx\u001b[0m\u001b[1;33m]\u001b[0m\u001b[1;33m)\u001b[0m\u001b[1;33m\u001b[0m\u001b[1;33m\u001b[0m\u001b[0m\n\u001b[0;32m      5\u001b[0m \u001b[1;32melse\u001b[0m\u001b[1;33m:\u001b[0m\u001b[1;33m\u001b[0m\u001b[1;33m\u001b[0m\u001b[0m\n\u001b[1;32m----> 6\u001b[1;33m     \u001b[1;32mraise\u001b[0m \u001b[0mKeyError\u001b[0m\u001b[1;33m(\u001b[0m\u001b[1;34m'La clave no pertenece al diccionario definido'\u001b[0m\u001b[1;33m)\u001b[0m\u001b[1;33m\u001b[0m\u001b[1;33m\u001b[0m\u001b[0m\n\u001b[0m",
      "\u001b[1;31mKeyError\u001b[0m: 'La clave no pertenece al diccionario definido'"
     ]
    }
   ],
   "source": [
    "x = 'c'\n",
    "\n",
    "if a.get(x):\n",
    "    print(a[x])\n",
    "else:\n",
    "    raise KeyError('La clave no pertenece al diccionario definido')"
   ]
  },
  {
   "cell_type": "code",
   "execution_count": 160,
   "metadata": {},
   "outputs": [
    {
     "ename": "ValueError",
     "evalue": "El valor está fuera del umbral",
     "output_type": "error",
     "traceback": [
      "\u001b[1;31m---------------------------------------------------------------------------\u001b[0m",
      "\u001b[1;31mValueError\u001b[0m                                Traceback (most recent call last)",
      "\u001b[1;32m<ipython-input-160-3293010c34d1>\u001b[0m in \u001b[0;36m<module>\u001b[1;34m\u001b[0m\n\u001b[0;32m      9\u001b[0m         \u001b[1;32mraise\u001b[0m \u001b[0mValueError\u001b[0m\u001b[1;33m(\u001b[0m\u001b[1;34m\"El valor está fuera del umbral\"\u001b[0m\u001b[1;33m)\u001b[0m\u001b[1;33m\u001b[0m\u001b[1;33m\u001b[0m\u001b[0m\n\u001b[0;32m     10\u001b[0m \u001b[1;33m\u001b[0m\u001b[0m\n\u001b[1;32m---> 11\u001b[1;33m \u001b[0mmultiply_values\u001b[0m\u001b[1;33m(\u001b[0m\u001b[0ma\u001b[0m\u001b[1;33m,\u001b[0m \u001b[0mb\u001b[0m\u001b[1;33m)\u001b[0m\u001b[1;33m\u001b[0m\u001b[1;33m\u001b[0m\u001b[0m\n\u001b[0m",
      "\u001b[1;32m<ipython-input-160-3293010c34d1>\u001b[0m in \u001b[0;36mmultiply_values\u001b[1;34m(a, b)\u001b[0m\n\u001b[0;32m      7\u001b[0m         \u001b[1;32mreturn\u001b[0m \u001b[0ma\u001b[0m \u001b[1;33m*\u001b[0m \u001b[0mb\u001b[0m\u001b[1;33m\u001b[0m\u001b[1;33m\u001b[0m\u001b[0m\n\u001b[0;32m      8\u001b[0m     \u001b[1;32melse\u001b[0m\u001b[1;33m:\u001b[0m\u001b[1;33m\u001b[0m\u001b[1;33m\u001b[0m\u001b[0m\n\u001b[1;32m----> 9\u001b[1;33m         \u001b[1;32mraise\u001b[0m \u001b[0mValueError\u001b[0m\u001b[1;33m(\u001b[0m\u001b[1;34m\"El valor está fuera del umbral\"\u001b[0m\u001b[1;33m)\u001b[0m\u001b[1;33m\u001b[0m\u001b[1;33m\u001b[0m\u001b[0m\n\u001b[0m\u001b[0;32m     10\u001b[0m \u001b[1;33m\u001b[0m\u001b[0m\n\u001b[0;32m     11\u001b[0m \u001b[0mmultiply_values\u001b[0m\u001b[1;33m(\u001b[0m\u001b[0ma\u001b[0m\u001b[1;33m,\u001b[0m \u001b[0mb\u001b[0m\u001b[1;33m)\u001b[0m\u001b[1;33m\u001b[0m\u001b[1;33m\u001b[0m\u001b[0m\n",
      "\u001b[1;31mValueError\u001b[0m: El valor está fuera del umbral"
     ]
    }
   ],
   "source": [
    "# multiplicar a y b, pero si a*b es mayor a 40 raise ValueError\n",
    "\n",
    "a, b = 20, 3\n",
    "\n",
    "def multiply_values(a, b):\n",
    "    if a * b <= 40:\n",
    "        return a * b\n",
    "    else:\n",
    "        raise ValueError(\"El valor está fuera del umbral\")\n",
    "        \n",
    "multiply_values(a, b)"
   ]
  },
  {
   "cell_type": "markdown",
   "metadata": {
    "id": "rVPwM3a5GVOh",
    "slideshow": {
     "slide_type": "slide"
    }
   },
   "source": [
    "## Bibliografía y referencias\n",
    "\n",
    "- Sci-Py Lectures https://scipy-lectures.org/. Accedido: 24/01/2021\n",
    "- \"PyOHIO 2013. Super Advanced Python\". https://pyvideo.org/pyohio-2013/super-advanced-python.html"
   ]
  }
 ],
 "metadata": {
  "colab": {
   "collapsed_sections": [
    "LL2431z3GVOK",
    "J_w9jmweGVOL",
    "lBGpCxM5GVOP",
    "zwvv9qCGGVOU",
    "EA_ReXPZGVOX",
    "4xJhlTB8GVOZ",
    "MuISXPATGVOZ",
    "AviRdtLGGVOb",
    "zunc-5NJGVOc",
    "1L5KR-5oGVOd"
   ],
   "name": "01 - Repaso de Python.ipynb",
   "provenance": [],
   "toc_visible": true
  },
  "kernelspec": {
   "display_name": "Python 3",
   "language": "python",
   "name": "python3"
  },
  "language_info": {
   "codemirror_mode": {
    "name": "ipython",
    "version": 3
   },
   "file_extension": ".py",
   "mimetype": "text/x-python",
   "name": "python",
   "nbconvert_exporter": "python",
   "pygments_lexer": "ipython3",
   "version": "3.8.3"
  }
 },
 "nbformat": 4,
 "nbformat_minor": 4
}
