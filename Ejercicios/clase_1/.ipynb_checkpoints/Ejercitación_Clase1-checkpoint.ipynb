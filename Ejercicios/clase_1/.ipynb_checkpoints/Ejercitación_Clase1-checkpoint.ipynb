{
 "cells": [
  {
   "cell_type": "markdown",
   "metadata": {
    "id": "2F18f75K0RXd"
   },
   "source": [
    "# Capacitación Semillero DISW: Curso Python\n",
    "# Clase 1\n",
    "\n"
   ]
  },
  {
   "cell_type": "markdown",
   "metadata": {
    "id": "5o4r9UTv2hlh"
   },
   "source": [
    "## Ejercicios \n",
    "\n",
    "\n"
   ]
  },
  {
   "cell_type": "markdown",
   "metadata": {
    "id": "-FxIKiWM2j0V"
   },
   "source": [
    "### Ejercicio 1\n",
    "Crear un programa que pida al usuario que ingrese su nombre y edad, y luego muestre por pantalla un mensaje que diga \"<nombre> cumplirá 100 años en <año>. \" "
   ]
  },
  {
   "cell_type": "code",
   "execution_count": null,
   "metadata": {
    "id": "1_iepk4X0PSe"
   },
   "outputs": [],
   "source": [
    "name = input(\"¿Cuál es tu nombre?: \")\n",
    "age = int(input(\"¿Cuátos años tenes?: \"))\n",
    "# TODO: impresión por pantalla."
   ]
  },
  {
   "cell_type": "markdown",
   "metadata": {
    "id": "CELk9RRf2XbO"
   },
   "source": [
    "### Ejercicio 2\n",
    "Dada una lista, pedir al usuario que ingrese un valor umbral y devolver todos los valores de la lista menores al elegido por el usuario. "
   ]
  },
  {
   "cell_type": "code",
   "execution_count": null,
   "metadata": {
    "id": "VduEFfb72KOW"
   },
   "outputs": [],
   "source": [
    "umbral = # TODO\n",
    "lista = [52,10,2,3,6,7,-2,5,8]\n",
    "# TODO mostrar todos los valores de lisa por debajo de umbral."
   ]
  },
  {
   "cell_type": "markdown",
   "metadata": {
    "id": "Ty41DiXBDpjg"
   },
   "source": [
    "### Ejercicio 3 \n",
    "Dadas dos listas, por ejemplo:\n",
    "\n",
    "  a = [1, 1, 2, 3, 5, 8, 13, 21, 34, 55, 89]\n",
    "  b = [1, 2, 3, 4, 5, 6, 7, 8, 9, 10, 11, 12, 13]\n",
    "\n",
    "escribir un programa que devuelva una lista que contenga únicamente los valores comunes entre ambdas listas. "
   ]
  },
  {
   "cell_type": "markdown",
   "metadata": {
    "id": "OIlzOrIY4UUJ"
   },
   "source": [
    "### Ejercicio 4\n",
    "Concatenar lo siguientes 3 diccionarios para crear uno nuevo:\n",
    "\n",
    "dict1 = {1:10,2:20,3:30}\n",
    "\n",
    "dict2 = {3:30, 4:40}\n",
    "\n",
    "dict3 = {5:50}"
   ]
  },
  {
   "cell_type": "markdown",
   "metadata": {
    "id": "rT5_aANJ7Jwc"
   },
   "source": [
    "### Ejercicio 5\n",
    "A partir del diccionario creado en el ejercicio 4, crear un iterador que barra los pares (*key*, *value*). Imprimir por pantalla ambos valores."
   ]
  },
  {
   "cell_type": "markdown",
   "metadata": {
    "id": "pGoXCEcY8TV7"
   },
   "source": [
    "### Ejercicio 6\n",
    "Escribir un script que dados ds diccionarios, los unifique en uno sólo, obteniendo la suma de los valores para los *keys* repetidos.\n",
    "\n",
    "dict1 = {'a':1, 'b':5, 'c': 10}\n",
    "\n",
    "dict2 = {'a':2, 'c': 1, 'd':3} "
   ]
  },
  {
   "cell_type": "markdown",
   "metadata": {
    "id": "Ylu5sWkj3b6p"
   },
   "source": [
    "### Ejercicio 7\n",
    "Implemenar un juego de *piedra papel o tijera* para dos jugarodres. Pedir a los usuarios en que ingresen su jugada. \n",
    "Las reglas son:\n",
    "- Piedra le gana a tijera\n",
    "- Papel le gana a piedra\n",
    "- Tijera le gana a papel\n",
    "- El juego termina cuando gana alguno de los dos jugadores"
   ]
  },
  {
   "cell_type": "markdown",
   "metadata": {
    "id": "FD57njwDFdTl"
   },
   "source": [
    "### Ejercicio 8\n",
    "\n",
    "Implementar el juego \"ahorcado\". Para ello el jugador 1 ingresa una palabra. Luego el jugador 2 debe ir adivinando las letras que lo componen. \n",
    "Escribir una función que maneje el desarrollo del juego, que tome como entrada la palabra elegida por el jugador 1. El juego termina cuando el jugador 2 acierta la palabra o usa una cantidad de intentos mayor a 15. "
   ]
  },
  {
   "cell_type": "markdown",
   "metadata": {
    "id": "Tbzci-QrGfbg"
   },
   "source": [
    "### Ejercicio 9\n",
    "El objetivo es crear una *aplicación* que permita manejar el presupuesto y gastos de una persona. Para ello vamos a usar un enfoque de programación orientada a objeto. \n",
    "\n",
    "Crear un clase `Categoría`. Debería permitir instanciar distintas categorías del presupuesto, como alimentos, vestimenta, entretenimiento. La clase debe incluir un atributo `contabilidad` que sea de tipo lista. Además la clase deberá contener los siguientes métodos:\n",
    " - `deposito`: recibe un monto y una descripción. Si no se da ninguna descripción por defecto debe completarse con un string vacío. Además debe agregar a la lista `contabilidad` un objeto de la forma `{'cantidad': cantidad, 'descripcion':descripcion}`\n",
    " - `extraccion`: similar a depósito. Si no hay fondos suficientes, no se debe ejecutar la operación, y no debe agregarse nada a  `contabilidad`. En caso de haber fondos suficientes, el objeto a agregar a `contabilidad` debe contemplar el monto con signo negativo (egreso). El método debería devolver `True` si se ejecutó la operación `False` si no.\n",
    " - `obtener_balance`: devuelve el balance actual de la categoría basado en los depósitos y extracciones que se hayan producido.\n",
    " - `transferencia`: acepta un monto y el nombre de otra categoría del presupuesto como argumentos. Este método transfiere plata de una categoría a la otra. Se debe represetar con una `extracción` y un `depósito` en las catergorías que corresponda, con la descripción \"Transf. a Categoría destinp\" y \"Trans. de Categoría destino\". Nuevamente si no alcanzan los fondos no se ejecuta la operación y devuelve `False`, en caso contrario devuelve `True`. \n",
    " - `verificar_fondos`:  acepta como argumento un mnonto. Devuelve `True` si se dispone de fondos suficientes (si el balance de la categoría es mayor al monto ingresado), `False` en caso contrario. Debería ser utilizado por los metodos `transferencia` y `extracción`. \n",
    "\n",
    "Cuando se imprime el objeto `presupuesto` debería mostrar:\n",
    "\n",
    "  Un titulo de 30 caracteres con el nombre de la categoría centrado entre *. \n",
    "\n",
    "  Una lista de los items en la contabilidad. Cada línea debe mosrar los primeros 20 caracteres de la descripción y luego el monto, con dos decimales. \n",
    "\n",
    "  Una línea mostrando el total de la categoría\n",
    "\n",
    "Por ejemplo:\n",
    "```\n",
    "*************Alimentos*************\n",
    "deposito inicial        1000.00\n",
    "alimentos               -10.15\n",
    "restaurant y mas com -15.89\n",
    "Transf. a Vestimenta    -50.00\n",
    "Total: 923.96\n",
    "```\n",
    "\n",
    "Además de la clase Categoría, crear una función llamada `crear_tabla_gastos` que tome como argumento una lista de categoría. Debe devolver un *string* que sea un diagrama de barras.\n",
    "\n",
    "La gráfica debe mostrar el porcentage gastado en cada categoría que se le pasa a la función. Dicho porcentaje se calcula únicamente sobre las extracciones. Un ejemplo sería\n",
    "```\n",
    "Porcentaje usado por categoría\n",
    "100|          \n",
    " 90|          \n",
    " 80|          \n",
    " 70|          \n",
    " 60| o        \n",
    " 50| o        \n",
    " 40| o        \n",
    " 30| o        \n",
    " 20| o  o     \n",
    " 10| o  o  o  \n",
    "  0| o  o  o  \n",
    "    ----------\n",
    "     A  V  A  \n",
    "     l  e  u  \n",
    "     i  s  t  \n",
    "     m  t  o\n",
    "     e  i\n",
    "     n  m\n",
    "     t  e\n",
    "     o  n\n",
    "     s  t   \n",
    "        a     \n",
    "``` \n",
    "             \n",
    "             \n",
    "\n"
   ]
  }
 ],
 "metadata": {
  "colab": {
   "collapsed_sections": [],
   "name": "INVAP-Ejercitación-Clase1.ipynb",
   "provenance": [],
   "toc_visible": true
  },
  "kernelspec": {
   "display_name": "Python 3",
   "language": "python",
   "name": "python3"
  },
  "language_info": {
   "codemirror_mode": {
    "name": "ipython",
    "version": 3
   },
   "file_extension": ".py",
   "mimetype": "text/x-python",
   "name": "python",
   "nbconvert_exporter": "python",
   "pygments_lexer": "ipython3",
   "version": "3.8.3"
  }
 },
 "nbformat": 4,
 "nbformat_minor": 1
}
